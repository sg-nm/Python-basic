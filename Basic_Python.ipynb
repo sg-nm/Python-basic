{
  "nbformat": 4,
  "nbformat_minor": 0,
  "metadata": {
    "colab": {
      "name": "Basic-Python.ipynb",
      "provenance": [],
      "toc_visible": true,
      "authorship_tag": "ABX9TyPsCtdRhoC2g26Xdk1cPe8t",
      "include_colab_link": true
    },
    "kernelspec": {
      "name": "python3",
      "display_name": "Python 3"
    },
    "language_info": {
      "name": "python"
    }
  },
  "cells": [
    {
      "cell_type": "markdown",
      "metadata": {
        "id": "view-in-github",
        "colab_type": "text"
      },
      "source": [
        "<a href=\"https://colab.research.google.com/github/sg-nm/Python-basic/blob/main/Basic_Python.ipynb\" target=\"_parent\"><img src=\"https://colab.research.google.com/assets/colab-badge.svg\" alt=\"Open In Colab\"/></a>"
      ]
    },
    {
      "cell_type": "markdown",
      "metadata": {
        "id": "Ro4q3oVzznAk"
      },
      "source": [
        "## **Pythonの基礎**\n",
        "\n",
        "### **Pythonのインストール**\n",
        "Pythonは様々な方法で利用することができます．\n",
        "オススメなのは，AnacondaやminicondaなどのPython＋よく使われるライブラリが一緒になっているディストリビューションをインストールすることです．\n",
        "\n",
        "例えば，Anacondaは下記からインストールすることができます．\n",
        "https://www.anaconda.com/products/individual\n",
        "\n",
        "あまり複雑なコードを書かないのであれば，Google ColaboratoryのようなWebブラウザ上で実行可能なPython環境を選択するのも良いと思います．\n",
        "\n",
        "https://colab.research.google.com/notebooks/welcome.ipynb?hl=ja\n",
        "\n",
        "\n",
        "\n",
        "---\n",
        "\n"
      ]
    },
    {
      "cell_type": "markdown",
      "metadata": {
        "id": "t31EewfU21p7"
      },
      "source": [
        "### **Pythonの実行方法**\n",
        "Pythonで書かれたプログラムを実行するには，主に2つの方法があります．\n",
        "\n",
        "1つは**ターミナル（コマンドプロンプト）からの実行**で，下記はPythonで書かれたプログラムxxx.pyを実行する例です．\n",
        "\n",
        "`python xxx.py`\n",
        "\n",
        "**もう一つが対話的実行**で，ターミナル上で`python`と入力すると，対話的実行が可能になります．Google Colaboratoryでの実行はこちらに該当します．対話的実行では，プログラムをファイルに一気に書いて実行するのではなく，1行ずつプログラムを実行しながら結果を確認することができます．\n",
        "\n",
        "ある程度複雑なプログラムになる場合は，前者のようにPythonファイル(xxx.py)にコードを書き，ターミナルから実行する形式の方が好ましいです．逆に，小規模もしくは簡単な動作確認程度の場合は，後者の対話的実行の方が効率的です．\n",
        "\n",
        "\n",
        "---\n",
        "\n",
        "\n",
        "\n",
        "---\n",
        "\n",
        "\n",
        "\n",
        "\n"
      ]
    },
    {
      "cell_type": "markdown",
      "metadata": {
        "id": "uVoGDjcw9Gmp"
      },
      "source": [
        "### **基本的な計算方法**\n",
        "\n",
        "#### **基本的なルール**\n",
        "\n",
        "\n",
        "*   基本的に1行が1文で，1つの処理になります．勝手に改行してはいけません．\n",
        "*   1行が長くなりすぎるときは，行末に `\\` を置くことでその行を次行に継続させることができます．なお，かっこ類 `() [] {}` の中では自由に改行可能です．\n",
        "*   字下げ（インデント）で制御構文や関数のブロック（適用範囲）を表現するので，行の先頭に勝手に空白を入れてはいけない．\n",
        "*   `#` から行末まではコメントになります．実行結果には影響しません．\n",
        "\n",
        "\n",
        "---\n",
        "\n",
        "\n",
        "\n"
      ]
    },
    {
      "cell_type": "markdown",
      "metadata": {
        "id": "57hnLl5HBG3j"
      },
      "source": [
        "#### **基本的な演算**\n",
        "\n",
        "ほかのプログラミング言語と同様に，算術演算子（`+, -, /, //, %, **`など）で数値計算を行います．"
      ]
    },
    {
      "cell_type": "code",
      "metadata": {
        "colab": {
          "base_uri": "https://localhost:8080/"
        },
        "id": "h5gyW8UBzbUm",
        "outputId": "0e3064af-0af0-46a5-c148-3bfc6d72f9fa"
      },
      "source": [
        "1 + 2 + 4  # 1+2+3 = 6"
      ],
      "execution_count": null,
      "outputs": [
        {
          "output_type": "execute_result",
          "data": {
            "text/plain": [
              "7"
            ]
          },
          "metadata": {},
          "execution_count": 2
        }
      ]
    },
    {
      "cell_type": "code",
      "metadata": {
        "colab": {
          "base_uri": "https://localhost:8080/"
        },
        "id": "_RH840yhCmfa",
        "outputId": "b9559fb8-10ba-463b-9f55-8cce6406449b"
      },
      "source": [
        "5 / 2  # /は除算で，計算結果は小数も含みます"
      ],
      "execution_count": null,
      "outputs": [
        {
          "output_type": "execute_result",
          "data": {
            "text/plain": [
              "2.5"
            ]
          },
          "metadata": {},
          "execution_count": 5
        }
      ]
    },
    {
      "cell_type": "code",
      "metadata": {
        "colab": {
          "base_uri": "https://localhost:8080/"
        },
        "id": "NWwKrTr4Cp_J",
        "outputId": "7bd2faa1-c8fe-4a69-b40e-1e6d5d3d59ba"
      },
      "source": [
        "5 // 2  # //は整数除算で，小数部分の計算結果は切り捨てられます"
      ],
      "execution_count": null,
      "outputs": [
        {
          "output_type": "execute_result",
          "data": {
            "text/plain": [
              "2"
            ]
          },
          "metadata": {},
          "execution_count": 6
        }
      ]
    },
    {
      "cell_type": "code",
      "metadata": {
        "colab": {
          "base_uri": "https://localhost:8080/"
        },
        "id": "nJY7n_rlC87d",
        "outputId": "76f01500-1d2c-4c69-b45d-6105022829e3"
      },
      "source": [
        "5 % 2  # %は剰余を計算します"
      ],
      "execution_count": null,
      "outputs": [
        {
          "output_type": "execute_result",
          "data": {
            "text/plain": [
              "1"
            ]
          },
          "metadata": {},
          "execution_count": 8
        }
      ]
    },
    {
      "cell_type": "code",
      "metadata": {
        "colab": {
          "base_uri": "https://localhost:8080/"
        },
        "id": "miaQdpaCDGLu",
        "outputId": "f98e3eea-1b50-48cb-dba5-a189f52b03f4"
      },
      "source": [
        "5 ** 2  # **はべき乗を計算します（5^2）"
      ],
      "execution_count": null,
      "outputs": [
        {
          "output_type": "execute_result",
          "data": {
            "text/plain": [
              "25"
            ]
          },
          "metadata": {},
          "execution_count": 9
        }
      ]
    },
    {
      "cell_type": "code",
      "metadata": {
        "colab": {
          "base_uri": "https://localhost:8080/"
        },
        "id": "-44kRvSpB6_R",
        "outputId": "2523a0e4-fd12-42f9-d4a7-121c602395f0"
      },
      "source": [
        "2 + 3 * 4  # 通常の計算と同様，掛け算（*）が優先されます"
      ],
      "execution_count": null,
      "outputs": [
        {
          "output_type": "execute_result",
          "data": {
            "text/plain": [
              "14"
            ]
          },
          "metadata": {},
          "execution_count": 3
        }
      ]
    },
    {
      "cell_type": "code",
      "metadata": {
        "colab": {
          "base_uri": "https://localhost:8080/"
        },
        "id": "KKnZUTnMCM-L",
        "outputId": "d97902fa-8207-4de1-87e9-718d09f175be"
      },
      "source": [
        "(2 + 3) * 4  # ()で計算を優先させることができます"
      ],
      "execution_count": null,
      "outputs": [
        {
          "output_type": "execute_result",
          "data": {
            "text/plain": [
              "20"
            ]
          },
          "metadata": {},
          "execution_count": 4
        }
      ]
    },
    {
      "cell_type": "markdown",
      "metadata": {
        "id": "v8YaSBJ8GEhw"
      },
      "source": [
        "#### **演算の優先順位**\n",
        "\n",
        "掛け算，除算は加算や減算よりも先に実行されます．同じ優先順位の演算子が並んでいる場合は，文の先頭に近い方から実行されます．\n",
        "\n",
        "ただし，かっこを使うことで優先順位を変更することができます．\n",
        "\n",
        "#### **空白**\n",
        "また，数式や演算子の間には，自由に空白（半角空白）を入れることができます．上記でみるように1つだけ空白を挿入するケースがよく見られます．\n",
        "ただし，複数文字からなる演算子（`**`, `//`）の間に空白を入れることはできません．"
      ]
    },
    {
      "cell_type": "markdown",
      "metadata": {
        "id": "56GsmqO2DYt2"
      },
      "source": [
        "\n",
        "\n",
        "\n",
        "---\n",
        "\n",
        "\n",
        "---\n",
        "\n",
        "\n",
        "### **変数**\n",
        "\n",
        "代入（`=`）によって，左辺の変数に右辺の値を割り当てることができます．変数を利用することで，値や計算結果などの情報に名前をつけることができるようになります．\n",
        "\n",
        "代入文では，右辺を先に評価した後に左辺の変数に割り当てるという順番に従います．"
      ]
    },
    {
      "cell_type": "code",
      "metadata": {
        "colab": {
          "base_uri": "https://localhost:8080/"
        },
        "id": "15l9PT1GDRNp",
        "outputId": "5896350e-6fd4-4c06-98ee-85fc7ec10c70"
      },
      "source": [
        "x = 5\n",
        "y = 5 // 2\n",
        "z = x + y   # 5 + 2\n",
        "print(z)"
      ],
      "execution_count": null,
      "outputs": [
        {
          "output_type": "stream",
          "name": "stdout",
          "text": [
            "7\n"
          ]
        }
      ]
    },
    {
      "cell_type": "code",
      "metadata": {
        "colab": {
          "base_uri": "https://localhost:8080/"
        },
        "id": "gU0YVBsfE3UY",
        "outputId": "5570845f-e00e-4bc4-ec59-838a8db42b15"
      },
      "source": [
        "pi = 3.14\n",
        "radius = 5\n",
        "area = pi * radius ** 2  # 半径×半径×円周率\n",
        "print(area)"
      ],
      "execution_count": null,
      "outputs": [
        {
          "output_type": "stream",
          "name": "stdout",
          "text": [
            "78.5\n"
          ]
        }
      ]
    },
    {
      "cell_type": "markdown",
      "metadata": {
        "id": "a_d--8FgKbVi"
      },
      "source": [
        "#### **変数名の付け方**\n",
        "\n",
        "変数名は英字またはアンダースコアで始まり，英数字もしくはアンダースコアが1個以上続くもので定義可能です．\n",
        "\n",
        "ただし，いくつか例外があります．\n",
        "\n",
        "\n",
        "*   `if`や`while`などのように，Python内であらかじめ定義されているキーワードは使用できません\n",
        "*   アンダースコア2個（`__`）で始まる変数名は使用できません\n",
        "\n",
        "\n",
        "\n"
      ]
    },
    {
      "cell_type": "markdown",
      "metadata": {
        "id": "_eouvcz8MXTv"
      },
      "source": [
        "#### **変数の型**\n",
        "\n",
        "C言語などでは変数の宣言には型を指定する必要がありますが，Pythonでは型を指定する必要がありません．\n",
        "\n",
        "`x = 5`と書くと，`x`に整数型（int）が自動的に割り当てられます．"
      ]
    },
    {
      "cell_type": "code",
      "metadata": {
        "id": "voDqKBj9FTYn"
      },
      "source": [
        "x = 5     # int型\n",
        "x = 5.0   # float型"
      ],
      "execution_count": null,
      "outputs": []
    },
    {
      "cell_type": "markdown",
      "metadata": {
        "id": "hGcVhzRlOHea"
      },
      "source": [
        "型の変換は下記のようにすることでできます．"
      ]
    },
    {
      "cell_type": "code",
      "metadata": {
        "colab": {
          "base_uri": "https://localhost:8080/"
        },
        "id": "G22M7mx_NicC",
        "outputId": "b1ee9598-728b-4765-920e-f40ee2d4326d"
      },
      "source": [
        "float(5)   # 5をfloat型に変換"
      ],
      "execution_count": null,
      "outputs": [
        {
          "output_type": "execute_result",
          "data": {
            "text/plain": [
              "5.0"
            ]
          },
          "metadata": {},
          "execution_count": 15
        }
      ]
    },
    {
      "cell_type": "code",
      "metadata": {
        "colab": {
          "base_uri": "https://localhost:8080/"
        },
        "id": "HQa-nEU2OZeY",
        "outputId": "5ce76fac-2c1e-431e-812c-f63ecb73f52b"
      },
      "source": [
        "int(3.5)   # 3.5をint型に変換（小数部分を切り捨て）"
      ],
      "execution_count": null,
      "outputs": [
        {
          "output_type": "execute_result",
          "data": {
            "text/plain": [
              "3"
            ]
          },
          "metadata": {},
          "execution_count": 16
        }
      ]
    },
    {
      "cell_type": "markdown",
      "metadata": {
        "id": "E1_lvpE9jaJF"
      },
      "source": [
        "Pythonにどのような型が存在するのかは公式のドキュメント等を確認するとわかります．\n",
        "https://docs.python.org/ja/3.8/reference/datamodel.html\n",
        "\n",
        "よく使用される型は，\n",
        "\n",
        "\n",
        "*   int\n",
        "*   float\n",
        "*   str\n",
        "*   bool\n",
        "*   list\n",
        "*   dict\n",
        "*   tuple\n",
        "\n",
        "あたりになるので，これらのデータ型の扱いをまず学ぶのが良いと思います．\n",
        "\n"
      ]
    },
    {
      "cell_type": "markdown",
      "metadata": {
        "id": "X_tElNbpOv_B"
      },
      "source": [
        "\n",
        "\n",
        "---\n",
        "\n",
        "\n",
        "\n",
        "---\n",
        "\n",
        "\n",
        "### **関数**\n",
        "\n",
        "関数はある一連の処理に名前を付けて自由に呼び出せるようにしたものであり，関数を利用することでコード全体が読みやすくなります．\n",
        "\n",
        "また，頻出する処理を関数で定義しておけば，毎回イチから同じ処理内容のコードを書く必要がないため，効率よく実装を行うことができます．\n",
        "\n",
        "関数は以下の形式で定義します．\n",
        "\n",
        "```\n",
        "def 関数名(引数1, 引数2,...):\n",
        "    関数本体の処理\n",
        "    ...\n",
        "    return 返り値\n",
        "```\n",
        "\n",
        "\n",
        "*   `def 関数名`と`関数本体の処理`のインデントは1つずらす（＝インデントによって，定義した関数の内容がどこまでなのかを表す）．\n",
        "*   引数が0個の場合は`関数名()`のように定義します．\n",
        "*   返り値が必要ない場合は，`return`とだけ記述します．その場合は`None`という特殊な値が返ります．\n",
        "*   関数内部で定義された変数は，その関数内部だけで使えるローカル変数になります（関数外部から参照することはできない）\n"
      ]
    },
    {
      "cell_type": "markdown",
      "metadata": {
        "id": "9B_6j4zQtU5v"
      },
      "source": [
        "#### **関数の例**\n",
        "\n",
        "下記に円の面積を求める関数を定義してみます．様々な半径の値を入力できると汎用性がありそうなので，引数は半径の値とします．"
      ]
    },
    {
      "cell_type": "code",
      "metadata": {
        "id": "gyqByOdAOfVH",
        "colab": {
          "base_uri": "https://localhost:8080/"
        },
        "outputId": "ebbf6109-e570-49d1-db1f-4611d0d50a8f"
      },
      "source": [
        "# 関数定義\n",
        "def calc_area(radius):\n",
        "  pi = 3.14\n",
        "  area = pi * radius ** 2\n",
        "  return area\n",
        "\n",
        "# 実際に関数を呼び出して使ってみる\n",
        "area = calc_area(2)\n",
        "print(area)\n",
        "\n",
        "area = calc_area(10)\n",
        "print(area)"
      ],
      "execution_count": 5,
      "outputs": [
        {
          "output_type": "stream",
          "name": "stdout",
          "text": [
            "12.56\n",
            "314.0\n"
          ]
        }
      ]
    },
    {
      "cell_type": "markdown",
      "metadata": {
        "id": "NsP5jG3KpQua"
      },
      "source": [
        "#### **デフォルト引数**\n",
        "\n",
        "事前にあらかたの引数の値が決まっている場合などは，引数にデフォルト値を指定することもできます．"
      ]
    },
    {
      "cell_type": "code",
      "metadata": {
        "colab": {
          "base_uri": "https://localhost:8080/"
        },
        "id": "8-Iyz8HgpI42",
        "outputId": "e6e2cb50-5fe7-4e28-e332-3e7c673fe8f9"
      },
      "source": [
        "# radiusのデフォルト値を2で指定\n",
        "def calc_area(radius=2):\n",
        "  pi = 3.14\n",
        "  area = pi * radius ** 2\n",
        "  return area\n",
        "\n",
        "# 引数無し（デフォルト値）で関数を呼び出してみる\n",
        "area = calc_area()\n",
        "print(area)\n",
        "\n",
        "# もちろん引数ありで関数を呼び出すことも可能\n",
        "area = calc_area(10)\n",
        "print(area)"
      ],
      "execution_count": 3,
      "outputs": [
        {
          "output_type": "stream",
          "name": "stdout",
          "text": [
            "12.56\n",
            "314.0\n"
          ]
        }
      ]
    },
    {
      "cell_type": "markdown",
      "metadata": {
        "id": "XCQSVVeKp27F"
      },
      "source": [
        "デフォルト引数を指定する場合は，関数定義内では通常の引数よりも後ろに置く必要があります．"
      ]
    },
    {
      "cell_type": "code",
      "metadata": {
        "colab": {
          "base_uri": "https://localhost:8080/",
          "height": 129
        },
        "id": "vQIsR3qmpicx",
        "outputId": "617d822e-59e9-4741-eba2-a969be98a567"
      },
      "source": [
        "# good\n",
        "def calc_BMI(height, weight=53.3):\n",
        "  return weight / (height/100.0) ** 2\n",
        "\n",
        "# bad\n",
        "def calc_BMI_bad(weight=53.3, height):\n",
        "  return weight / (height/100.0) ** 2"
      ],
      "execution_count": 4,
      "outputs": [
        {
          "output_type": "error",
          "ename": "SyntaxError",
          "evalue": "ignored",
          "traceback": [
            "\u001b[0;36m  File \u001b[0;32m\"<ipython-input-4-64c2327591c6>\"\u001b[0;36m, line \u001b[0;32m6\u001b[0m\n\u001b[0;31m    def calc_BMI_bad(weight=53.3, height):\u001b[0m\n\u001b[0m                    ^\u001b[0m\n\u001b[0;31mSyntaxError\u001b[0m\u001b[0;31m:\u001b[0m non-default argument follows default argument\n"
          ]
        }
      ]
    },
    {
      "cell_type": "markdown",
      "metadata": {
        "id": "fAQilBtqr5OV"
      },
      "source": [
        "\n",
        "\n",
        "---\n",
        "\n",
        "\n",
        "\n",
        "---\n",
        "\n"
      ]
    },
    {
      "cell_type": "markdown",
      "metadata": {
        "id": "N31UijwXsQ6P"
      },
      "source": [
        "### **制御文**\n",
        "\n",
        "制御文を使うことで，より複雑なコードを実装することができます．\n",
        "\n",
        "下記に代表的な制御文である`if`文，`for`文を説明します．"
      ]
    },
    {
      "cell_type": "markdown",
      "metadata": {
        "id": "V7yYgLFWuzwW"
      },
      "source": [
        "#### **条件文（if）**\n",
        "\n",
        "if文を使うことで，条件分岐のプロセスを実装することができます．if文の中身はインデントを1つ下げることを忘れないようにしましょう．"
      ]
    },
    {
      "cell_type": "code",
      "metadata": {
        "id": "dSSH_fiGrs1M"
      },
      "source": [
        "if condition1:\n",
        "  print(\"condition1 is true\")\n",
        "elif condition2:\n",
        "  print(\"condition2 is true\")\n",
        "else:\n",
        "  print(\"condition1 and condition 2 are false\")"
      ],
      "execution_count": 5,
      "outputs": []
    },
    {
      "cell_type": "markdown",
      "metadata": {
        "id": "iaRDtJdy8HhW"
      },
      "source": [
        "例えば，数値の大小を比較したいときは，下記のように書くことができます．"
      ]
    },
    {
      "cell_type": "code",
      "metadata": {
        "colab": {
          "base_uri": "https://localhost:8080/"
        },
        "id": "iU7kd3ip8UK2",
        "outputId": "7ffda9e3-15d4-45e4-9296-81a760655963"
      },
      "source": [
        "x = 10\n",
        "y = 20\n",
        "if x > y:\n",
        "  print(\"x is larger than y\")\n",
        "else:\n",
        "  print(\"y is larger than x\")"
      ],
      "execution_count": 6,
      "outputs": [
        {
          "output_type": "stream",
          "name": "stdout",
          "text": [
            "y is larger than x\n"
          ]
        }
      ]
    },
    {
      "cell_type": "markdown",
      "metadata": {
        "id": "7RL3dOPO8mKS"
      },
      "source": [
        "上記を少し改良して，値が大きい変数を返す関数は以下のようになります．"
      ]
    },
    {
      "cell_type": "code",
      "metadata": {
        "id": "SEzy_I7U8h4b"
      },
      "source": [
        "def comp(x, y):\n",
        "  if x > y:\n",
        "    return x\n",
        "  else:\n",
        "    return y"
      ],
      "execution_count": 8,
      "outputs": []
    },
    {
      "cell_type": "markdown",
      "metadata": {
        "id": "zOS_hMMP9XAo"
      },
      "source": [
        "##### **条件の記述方法**\n",
        "\n",
        "よく使用する条件の記述としては下記のものがあります．\n",
        "\n",
        "```\n",
        "x < y         # x は y より小さい\n",
        "x <= y        # x は y 以下\n",
        "x > y         # x は y より大きい\n",
        "x >= y        # x は y 以上\n",
        "x == y        # x と y は等しい\n",
        "x != y        # x と y は等しくない\n",
        "```\n",
        "\n",
        "\n",
        "\n",
        "\n"
      ]
    },
    {
      "cell_type": "markdown",
      "metadata": {
        "id": "VzTR2d3B935n"
      },
      "source": [
        "##### **複数条件の組み合わせ**\n",
        "\n",
        "if文では複数の条件を同時に考慮することができます．\n",
        "\n",
        "```\n",
        "x > 0 and y > 0   # x>0 かつ y>0\n",
        "x > 0 or y > 0    # x>0 もしくは y>0\n",
        "```\n",
        "\n"
      ]
    },
    {
      "cell_type": "code",
      "metadata": {
        "colab": {
          "base_uri": "https://localhost:8080/"
        },
        "id": "H9V0YwF_82QC",
        "outputId": "cf6fca28-53a3-4c33-80e6-b96bca58c4fc"
      },
      "source": [
        "x = 6\n",
        "if x > 0 and x % 2 == 0:\n",
        "  print(\"xは正の偶数\")\n",
        "elif x > 0 and x % 2 != 0:\n",
        "  print(\"xは正の奇数\")"
      ],
      "execution_count": 15,
      "outputs": [
        {
          "output_type": "stream",
          "name": "stdout",
          "text": [
            "xは正の偶数\n"
          ]
        }
      ]
    },
    {
      "cell_type": "markdown",
      "metadata": {
        "id": "KS1tlxVOBrHz"
      },
      "source": [
        "##### **否定を表す条件**\n",
        "\n",
        "not演算子によって，条件の否定を表現することもできます．"
      ]
    },
    {
      "cell_type": "code",
      "metadata": {
        "colab": {
          "base_uri": "https://localhost:8080/"
        },
        "id": "KmP68ntVANZh",
        "outputId": "58ee4efe-0441-4d9e-bdd3-0088c046915d"
      },
      "source": [
        "not x < y    # xがyより小さくない"
      ],
      "execution_count": 10,
      "outputs": [
        {
          "output_type": "execute_result",
          "data": {
            "text/plain": [
              "False"
            ]
          },
          "metadata": {},
          "execution_count": 10
        }
      ]
    },
    {
      "cell_type": "markdown",
      "metadata": {
        "id": "HA7ZWSdrCqV5"
      },
      "source": [
        "\n",
        "\n",
        "---\n",
        "\n",
        "#### **繰り返し文（for, while）**\n",
        "\n",
        "同じ処理を繰り返したい場合は，`for`文もしくは`while`文が使用されます．\n",
        "forもしくはwhile文内のインデントは下げるように気をつけましょう．"
      ]
    },
    {
      "cell_type": "code",
      "metadata": {
        "colab": {
          "base_uri": "https://localhost:8080/"
        },
        "id": "Pen4StftCXZQ",
        "outputId": "21537462-14b4-4807-ff38-dab7826d223b"
      },
      "source": [
        "for x in range(5):\n",
        "  print(x)"
      ],
      "execution_count": 12,
      "outputs": [
        {
          "output_type": "stream",
          "name": "stdout",
          "text": [
            "0\n",
            "1\n",
            "2\n",
            "3\n",
            "4\n"
          ]
        }
      ]
    },
    {
      "cell_type": "markdown",
      "metadata": {
        "id": "91BH8E_GD2uI"
      },
      "source": [
        "for文はリスト，文字列，辞書など様々なデータ型に適用することが可能です．"
      ]
    },
    {
      "cell_type": "code",
      "metadata": {
        "colab": {
          "base_uri": "https://localhost:8080/"
        },
        "id": "uO1J_UEpDS42",
        "outputId": "8e5c49f6-87f4-4d3e-e08c-0f5a70a83e5c"
      },
      "source": [
        "for x in [10, 20, 30]:\n",
        "  print(1 + x)"
      ],
      "execution_count": 14,
      "outputs": [
        {
          "output_type": "stream",
          "name": "stdout",
          "text": [
            "11\n",
            "21\n",
            "31\n"
          ]
        }
      ]
    },
    {
      "cell_type": "code",
      "metadata": {
        "colab": {
          "base_uri": "https://localhost:8080/"
        },
        "id": "vVvuvKsFD0-P",
        "outputId": "a7a9163b-91d4-457e-e5e4-34c543817984"
      },
      "source": [
        "for x in 'computer':\n",
        "  print(x)"
      ],
      "execution_count": 16,
      "outputs": [
        {
          "output_type": "stream",
          "name": "stdout",
          "text": [
            "c\n",
            "o\n",
            "m\n",
            "p\n",
            "u\n",
            "t\n",
            "e\n",
            "r\n"
          ]
        }
      ]
    },
    {
      "cell_type": "markdown",
      "metadata": {
        "id": "6OeHIc6rL_V6"
      },
      "source": [
        "while文もC言語などと同様に条件がTrueのときに，ブロック内の処理を繰り返します．"
      ]
    },
    {
      "cell_type": "code",
      "metadata": {
        "colab": {
          "base_uri": "https://localhost:8080/"
        },
        "id": "Zef7P1AFHZge",
        "outputId": "a41939e1-2879-4adb-d9c3-d03cdf50e4df"
      },
      "source": [
        "x = 5\n",
        "while x > 0:\n",
        "  print(x)\n",
        "  x -= 1 "
      ],
      "execution_count": 17,
      "outputs": [
        {
          "output_type": "stream",
          "name": "stdout",
          "text": [
            "5\n",
            "4\n",
            "3\n",
            "2\n",
            "1\n"
          ]
        }
      ]
    },
    {
      "cell_type": "markdown",
      "metadata": {
        "id": "fsy1HaJWMTE-"
      },
      "source": [
        "\n",
        "\n",
        "---\n",
        "\n",
        "#### **break**\n",
        "\n",
        "`break`を使うことで繰り返し処理の途中でループを抜けることができます．\n"
      ]
    },
    {
      "cell_type": "code",
      "metadata": {
        "colab": {
          "base_uri": "https://localhost:8080/"
        },
        "id": "EpGHMSXMMMYC",
        "outputId": "ccd14f68-a7ef-41dc-dcf9-4f93870a6b73"
      },
      "source": [
        "for x in range(10):\n",
        "  if x > 6:\n",
        "    break\n",
        "  print(x)"
      ],
      "execution_count": 21,
      "outputs": [
        {
          "output_type": "stream",
          "name": "stdout",
          "text": [
            "0\n",
            "1\n",
            "2\n",
            "3\n",
            "4\n",
            "5\n",
            "6\n"
          ]
        }
      ]
    },
    {
      "cell_type": "code",
      "metadata": {
        "id": "HffKwmSIM0zO"
      },
      "source": [
        ""
      ],
      "execution_count": null,
      "outputs": []
    }
  ]
}