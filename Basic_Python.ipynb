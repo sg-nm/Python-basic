{
  "nbformat": 4,
  "nbformat_minor": 0,
  "metadata": {
    "colab": {
      "name": "Basic-Python.ipynb",
      "provenance": [],
      "collapsed_sections": [],
      "authorship_tag": "ABX9TyNrlnD5XHq58y2lU7XbZHpI",
      "include_colab_link": true
    },
    "kernelspec": {
      "name": "python3",
      "display_name": "Python 3"
    },
    "language_info": {
      "name": "python"
    }
  },
  "cells": [
    {
      "cell_type": "markdown",
      "metadata": {
        "id": "view-in-github",
        "colab_type": "text"
      },
      "source": [
        "<a href=\"https://colab.research.google.com/github/sg-nm/Python-basic/blob/main/Basic_Python.ipynb\" target=\"_parent\"><img src=\"https://colab.research.google.com/assets/colab-badge.svg\" alt=\"Open In Colab\"/></a>"
      ]
    },
    {
      "cell_type": "markdown",
      "metadata": {
        "id": "Ro4q3oVzznAk"
      },
      "source": [
        "## **Pythonの基礎**\n",
        "\n",
        "### **Pythonのインストール**\n",
        "Pythonは様々な方法で利用することができます．\n",
        "オススメなのは，AnacondaやminicondaなどのPython＋よく使われるライブラリが一緒になっているディストリビューションをインストールすることです．\n",
        "\n",
        "例えば，Anacondaは下記からインストールすることができます．\n",
        "\n",
        "https://www.anaconda.com/products/individual\n",
        "\n",
        "あまり複雑なコードを書かないのであれば，Google ColaboratoryのようなWebブラウザ上で実行可能なPython環境を選択するのも良いと思います．\n",
        "\n",
        "https://colab.research.google.com/notebooks/welcome.ipynb?hl=ja\n",
        "\n",
        "\n",
        "\n",
        "---\n",
        "\n"
      ]
    },
    {
      "cell_type": "markdown",
      "metadata": {
        "id": "t31EewfU21p7"
      },
      "source": [
        "### **Pythonの実行方法**\n",
        "Pythonで書かれたプログラムを実行するには，主に2つの方法があります．\n",
        "\n",
        "1つは**ターミナル（コマンドプロンプト）からの実行**で，下記はPythonで書かれたプログラムxxx.pyを実行する例です．\n",
        "\n",
        "`python xxx.py`\n",
        "\n",
        "**もう一つが対話的実行**で，ターミナル上で`python`と入力すると，対話的実行が可能になります．Google Colaboratoryでの実行はこちらに該当します．対話的実行では，プログラムをファイルに一気に書いて実行するのではなく，1行ずつプログラムを実行しながら結果を確認することができます．\n",
        "\n",
        "ある程度複雑なプログラムになる場合は，前者のようにPythonファイル(xxx.py)にコードを書き，ターミナルから実行する形式の方が好ましいです．逆に，小規模もしくは簡単な動作確認程度の場合は，後者の対話的実行の方が効率的です．\n",
        "\n",
        "\n",
        "---\n",
        "\n",
        "\n",
        "\n",
        "---\n",
        "\n",
        "\n",
        "\n",
        "\n"
      ]
    },
    {
      "cell_type": "markdown",
      "metadata": {
        "id": "uVoGDjcw9Gmp"
      },
      "source": [
        "### **基本的な計算方法**\n",
        "\n",
        "#### **基本的なルール**\n",
        "\n",
        "\n",
        "*   基本的に1行が1文で，1つの処理になります．勝手に改行してはいけません．\n",
        "*   1行が長くなりすぎるときは，行末に `\\` を置くことでその行を次行に継続させることができます．なお，かっこ類 `() [] {}` の中では自由に改行可能です．\n",
        "*   字下げ（インデント）で制御構文や関数のブロック（適用範囲）を表現するので，行の先頭に勝手に空白を入れてはいけない．\n",
        "*   `#` から行末まではコメントになります．実行結果には影響しません．\n",
        "\n",
        "\n",
        "---\n",
        "\n",
        "\n",
        "\n"
      ]
    },
    {
      "cell_type": "markdown",
      "metadata": {
        "id": "57hnLl5HBG3j"
      },
      "source": [
        "#### **基本的な演算**\n",
        "\n",
        "ほかのプログラミング言語と同様に，算術演算子（`+, -, /, //, %, **`など）で数値計算を行います．"
      ]
    },
    {
      "cell_type": "code",
      "metadata": {
        "colab": {
          "base_uri": "https://localhost:8080/"
        },
        "id": "h5gyW8UBzbUm",
        "outputId": "67f68f52-37d6-496b-9262-0b7edb3d5e09"
      },
      "source": [
        "1 + 2 + 50  # 1+2+3 = 6"
      ],
      "execution_count": null,
      "outputs": [
        {
          "output_type": "execute_result",
          "data": {
            "text/plain": [
              "53"
            ]
          },
          "metadata": {},
          "execution_count": 9
        }
      ]
    },
    {
      "cell_type": "code",
      "metadata": {
        "colab": {
          "base_uri": "https://localhost:8080/"
        },
        "id": "_RH840yhCmfa",
        "outputId": "a347ee65-9a6c-423e-fe9d-f954ea5d4e6f"
      },
      "source": [
        "5 / 3  # /は除算で，計算結果は小数も含みます"
      ],
      "execution_count": null,
      "outputs": [
        {
          "output_type": "execute_result",
          "data": {
            "text/plain": [
              "1.6666666666666667"
            ]
          },
          "metadata": {},
          "execution_count": 10
        }
      ]
    },
    {
      "cell_type": "code",
      "metadata": {
        "colab": {
          "base_uri": "https://localhost:8080/"
        },
        "id": "NWwKrTr4Cp_J",
        "outputId": "6a93f2e2-360c-45f6-f656-75568af53330"
      },
      "source": [
        "5 // 2  # //は整数除算で，小数部分の計算結果は切り捨てられます"
      ],
      "execution_count": null,
      "outputs": [
        {
          "output_type": "execute_result",
          "data": {
            "text/plain": [
              "2"
            ]
          },
          "metadata": {},
          "execution_count": 11
        }
      ]
    },
    {
      "cell_type": "code",
      "metadata": {
        "colab": {
          "base_uri": "https://localhost:8080/"
        },
        "id": "nJY7n_rlC87d",
        "outputId": "9bffbbbf-0289-4e06-d2ed-d1606c739b9f"
      },
      "source": [
        "5 % 3  # %は剰余を計算します"
      ],
      "execution_count": null,
      "outputs": [
        {
          "output_type": "execute_result",
          "data": {
            "text/plain": [
              "2"
            ]
          },
          "metadata": {},
          "execution_count": 12
        }
      ]
    },
    {
      "cell_type": "code",
      "metadata": {
        "colab": {
          "base_uri": "https://localhost:8080/"
        },
        "id": "miaQdpaCDGLu",
        "outputId": "573aa7db-fac3-4958-dd14-5e2f203556d4"
      },
      "source": [
        "5 ** 3  # **はべき乗を計算します（5^2）"
      ],
      "execution_count": null,
      "outputs": [
        {
          "output_type": "execute_result",
          "data": {
            "text/plain": [
              "125"
            ]
          },
          "metadata": {},
          "execution_count": 13
        }
      ]
    },
    {
      "cell_type": "code",
      "metadata": {
        "colab": {
          "base_uri": "https://localhost:8080/"
        },
        "id": "-44kRvSpB6_R",
        "outputId": "033a6949-3735-4d50-befc-3cd1ab786cf9"
      },
      "source": [
        "2 + 3 * 4  # 通常の計算と同様，掛け算（*）が優先されます"
      ],
      "execution_count": null,
      "outputs": [
        {
          "output_type": "execute_result",
          "data": {
            "text/plain": [
              "14"
            ]
          },
          "metadata": {},
          "execution_count": 14
        }
      ]
    },
    {
      "cell_type": "code",
      "metadata": {
        "colab": {
          "base_uri": "https://localhost:8080/"
        },
        "id": "KKnZUTnMCM-L",
        "outputId": "0030ac00-0eb0-45b8-f41d-9964a0f7d04d"
      },
      "source": [
        "(2 + 3) * 4  # ()で計算を優先させることができます"
      ],
      "execution_count": null,
      "outputs": [
        {
          "output_type": "execute_result",
          "data": {
            "text/plain": [
              "20"
            ]
          },
          "metadata": {},
          "execution_count": 15
        }
      ]
    },
    {
      "cell_type": "markdown",
      "metadata": {
        "id": "v8YaSBJ8GEhw"
      },
      "source": [
        "#### **演算の優先順位**\n",
        "\n",
        "掛け算，除算は加算や減算よりも先に実行されます．同じ優先順位の演算子が並んでいる場合は，文の先頭に近い方から実行されます．\n",
        "\n",
        "ただし，かっこを使うことで優先順位を変更することができます．\n",
        "\n",
        "#### **空白**\n",
        "また，数式や演算子の間には，自由に空白（半角空白）を入れることができます．上記でみるように1つだけ空白を挿入するケースがよく見られます．\n",
        "ただし，複数文字からなる演算子（`**`, `//`）の間に空白を入れることはできません．"
      ]
    },
    {
      "cell_type": "markdown",
      "metadata": {
        "id": "56GsmqO2DYt2"
      },
      "source": [
        "\n",
        "\n",
        "\n",
        "---\n",
        "\n",
        "\n",
        "---\n",
        "\n",
        "\n",
        "### **変数**\n",
        "\n",
        "代入（`=`）によって，左辺の変数に右辺の値を割り当てることができます．変数を利用することで，値や計算結果などの情報に名前をつけることができるようになります．\n",
        "\n",
        "代入文では，右辺を先に評価した後に左辺の変数に割り当てるという順番に従います．"
      ]
    },
    {
      "cell_type": "code",
      "metadata": {
        "colab": {
          "base_uri": "https://localhost:8080/"
        },
        "id": "15l9PT1GDRNp",
        "outputId": "d502bf7c-563c-495e-edb8-4f8f348853ad"
      },
      "source": [
        "x = 5\n",
        "y = 5 // 2\n",
        "z = x + y   # 5 + 2\n",
        "print(z)"
      ],
      "execution_count": null,
      "outputs": [
        {
          "output_type": "stream",
          "name": "stdout",
          "text": [
            "7\n"
          ]
        }
      ]
    },
    {
      "cell_type": "code",
      "metadata": {
        "colab": {
          "base_uri": "https://localhost:8080/"
        },
        "id": "gU0YVBsfE3UY",
        "outputId": "ecc07b70-d41f-468a-e4c7-af244987ba18"
      },
      "source": [
        "pi = 3.14\n",
        "radius = 5\n",
        "area = pi * radius ** 2  # 半径×半径×円周率\n",
        "print(area)"
      ],
      "execution_count": null,
      "outputs": [
        {
          "output_type": "stream",
          "name": "stdout",
          "text": [
            "78.5\n"
          ]
        }
      ]
    },
    {
      "cell_type": "markdown",
      "metadata": {
        "id": "a_d--8FgKbVi"
      },
      "source": [
        "#### **変数名の付け方**\n",
        "\n",
        "変数名は英字またはアンダースコアで始まり，英数字もしくはアンダースコアが1個以上続くもので定義可能です．\n",
        "\n",
        "ただし，いくつか例外があります．\n",
        "\n",
        "\n",
        "*   `if`や`while`などのように，Python内であらかじめ定義されているキーワードは使用できません\n",
        "*   アンダースコア2個（`__`）で始まる変数名は使用できません\n",
        "\n",
        "\n",
        "\n"
      ]
    },
    {
      "cell_type": "markdown",
      "metadata": {
        "id": "_eouvcz8MXTv"
      },
      "source": [
        "#### **変数の型**\n",
        "\n",
        "C言語などでは変数の宣言には型を指定する必要がありますが，Pythonでは型を指定する必要がありません．\n",
        "\n",
        "`x = 5`と書くと，`x`に整数型（int）が自動的に割り当てられます．"
      ]
    },
    {
      "cell_type": "code",
      "metadata": {
        "id": "voDqKBj9FTYn"
      },
      "source": [
        "x = 5     # int型\n",
        "x = 5.0   # float型"
      ],
      "execution_count": null,
      "outputs": []
    },
    {
      "cell_type": "markdown",
      "metadata": {
        "id": "hGcVhzRlOHea"
      },
      "source": [
        "型の変換は下記のようにすることでできます．"
      ]
    },
    {
      "cell_type": "code",
      "metadata": {
        "colab": {
          "base_uri": "https://localhost:8080/"
        },
        "id": "G22M7mx_NicC",
        "outputId": "4364ae30-7b3d-472e-bc75-69f474cfc45b"
      },
      "source": [
        "float(4)   # 5をfloat型に変換"
      ],
      "execution_count": null,
      "outputs": [
        {
          "output_type": "execute_result",
          "data": {
            "text/plain": [
              "4.0"
            ]
          },
          "metadata": {},
          "execution_count": 19
        }
      ]
    },
    {
      "cell_type": "code",
      "metadata": {
        "colab": {
          "base_uri": "https://localhost:8080/"
        },
        "id": "HQa-nEU2OZeY",
        "outputId": "74e9e143-964e-460b-9d8e-1fe181a2570d"
      },
      "source": [
        "int(3.5)   # 3.5をint型に変換（小数部分を切り捨て）"
      ],
      "execution_count": null,
      "outputs": [
        {
          "output_type": "execute_result",
          "data": {
            "text/plain": [
              "3"
            ]
          },
          "metadata": {},
          "execution_count": 20
        }
      ]
    },
    {
      "cell_type": "markdown",
      "metadata": {
        "id": "E1_lvpE9jaJF"
      },
      "source": [
        "Pythonにどのような型が存在するのかは公式のドキュメント等を確認するとわかります．\n",
        "https://docs.python.org/ja/3.8/reference/datamodel.html\n",
        "\n",
        "よく使用される型は，\n",
        "\n",
        "\n",
        "*   int\n",
        "*   float\n",
        "*   str\n",
        "*   bool\n",
        "*   list\n",
        "*   dict\n",
        "*   tuple\n",
        "\n",
        "あたりになるので，これらのデータ型の扱いをまず学ぶのが良いと思います．\n",
        "\n"
      ]
    },
    {
      "cell_type": "markdown",
      "metadata": {
        "id": "X_tElNbpOv_B"
      },
      "source": [
        "\n",
        "\n",
        "---\n",
        "\n",
        "\n",
        "\n",
        "---\n",
        "\n",
        "\n",
        "### **関数**\n",
        "\n",
        "関数はある一連の処理に名前を付けて自由に呼び出せるようにしたものであり，関数を利用することでコード全体が読みやすくなります．\n",
        "\n",
        "また，頻出する処理を関数で定義しておけば，毎回イチから同じ処理内容のコードを書く必要がないため，効率よく実装を行うことができます．\n",
        "\n",
        "関数は以下の形式で定義します．\n",
        "\n",
        "```\n",
        "def 関数名(引数1, 引数2,...):\n",
        "    関数本体の処理\n",
        "    ...\n",
        "    return 返り値\n",
        "```\n",
        "\n",
        "\n",
        "*   `def 関数名`と`関数本体の処理`のインデントは1つずらす（＝インデントによって，定義した関数の内容がどこまでなのかを表す）．\n",
        "*   引数が0個の場合は`関数名()`のように定義します．\n",
        "*   返り値が必要ない場合は，`return`とだけ記述します．その場合は`None`という特殊な値が返ります．\n",
        "*   関数内部で定義された変数は，その関数内部だけで使えるローカル変数になります（関数外部から参照することはできない）\n"
      ]
    },
    {
      "cell_type": "markdown",
      "metadata": {
        "id": "9B_6j4zQtU5v"
      },
      "source": [
        "#### **関数の例**\n",
        "\n",
        "下記に円の面積を求める関数を定義してみます．様々な半径の値を入力できると汎用性がありそうなので，引数は半径の値とします．"
      ]
    },
    {
      "cell_type": "code",
      "metadata": {
        "id": "gyqByOdAOfVH",
        "colab": {
          "base_uri": "https://localhost:8080/"
        },
        "outputId": "84353916-2c21-4c7d-af76-a86ec9bb2f12"
      },
      "source": [
        "# 関数定義\n",
        "def calc_area(radius):\n",
        "  pi = 3.14\n",
        "  area = pi * radius ** 2\n",
        "  return area\n",
        "\n",
        "# 実際に関数を呼び出して使ってみる\n",
        "area = calc_area(2)\n",
        "print(area)\n",
        "\n",
        "area = calc_area(1)\n",
        "print(area)"
      ],
      "execution_count": null,
      "outputs": [
        {
          "output_type": "stream",
          "name": "stdout",
          "text": [
            "12.56\n",
            "3.14\n"
          ]
        }
      ]
    },
    {
      "cell_type": "markdown",
      "metadata": {
        "id": "NsP5jG3KpQua"
      },
      "source": [
        "#### **デフォルト引数**\n",
        "\n",
        "事前にあらかたの引数の値が決まっている場合などは，引数にデフォルト値を指定することもできます．"
      ]
    },
    {
      "cell_type": "code",
      "metadata": {
        "colab": {
          "base_uri": "https://localhost:8080/"
        },
        "id": "8-Iyz8HgpI42",
        "outputId": "e6e2cb50-5fe7-4e28-e332-3e7c673fe8f9"
      },
      "source": [
        "# radiusのデフォルト値を2で指定\n",
        "def calc_area(radius=2):\n",
        "  pi = 3.14\n",
        "  area = pi * radius ** 2\n",
        "  return area\n",
        "\n",
        "# 引数無し（デフォルト値）で関数を呼び出してみる\n",
        "area = calc_area()\n",
        "print(area)\n",
        "\n",
        "# もちろん引数ありで関数を呼び出すことも可能\n",
        "area = calc_area(10)\n",
        "print(area)"
      ],
      "execution_count": null,
      "outputs": [
        {
          "output_type": "stream",
          "name": "stdout",
          "text": [
            "12.56\n",
            "314.0\n"
          ]
        }
      ]
    },
    {
      "cell_type": "markdown",
      "metadata": {
        "id": "XCQSVVeKp27F"
      },
      "source": [
        "デフォルト引数を指定する場合は，関数定義内では通常の引数よりも後ろに置く必要があります．"
      ]
    },
    {
      "cell_type": "code",
      "metadata": {
        "colab": {
          "base_uri": "https://localhost:8080/",
          "height": 129
        },
        "id": "vQIsR3qmpicx",
        "outputId": "617d822e-59e9-4741-eba2-a969be98a567"
      },
      "source": [
        "# good\n",
        "def calc_BMI(height, weight=53.3):\n",
        "  return weight / (height/100.0) ** 2\n",
        "\n",
        "# bad\n",
        "def calc_BMI_bad(weight=53.3, height):\n",
        "  return weight / (height/100.0) ** 2"
      ],
      "execution_count": null,
      "outputs": [
        {
          "output_type": "error",
          "ename": "SyntaxError",
          "evalue": "ignored",
          "traceback": [
            "\u001b[0;36m  File \u001b[0;32m\"<ipython-input-4-64c2327591c6>\"\u001b[0;36m, line \u001b[0;32m6\u001b[0m\n\u001b[0;31m    def calc_BMI_bad(weight=53.3, height):\u001b[0m\n\u001b[0m                    ^\u001b[0m\n\u001b[0;31mSyntaxError\u001b[0m\u001b[0;31m:\u001b[0m non-default argument follows default argument\n"
          ]
        }
      ]
    },
    {
      "cell_type": "markdown",
      "metadata": {
        "id": "fAQilBtqr5OV"
      },
      "source": [
        "\n",
        "\n",
        "---\n",
        "\n",
        "\n",
        "\n",
        "---\n",
        "\n"
      ]
    },
    {
      "cell_type": "markdown",
      "metadata": {
        "id": "N31UijwXsQ6P"
      },
      "source": [
        "### **制御文**\n",
        "\n",
        "制御文を使うことで，より複雑なコードを実装することができます．\n",
        "\n",
        "下記に代表的な制御文である`if`文，`for`文を説明します．"
      ]
    },
    {
      "cell_type": "markdown",
      "metadata": {
        "id": "V7yYgLFWuzwW"
      },
      "source": [
        "#### **条件文（if）**\n",
        "\n",
        "if文を使うことで，条件分岐のプロセスを実装することができます．if文の中身はインデントを1つ下げることを忘れないようにしましょう．"
      ]
    },
    {
      "cell_type": "code",
      "metadata": {
        "id": "dSSH_fiGrs1M"
      },
      "source": [
        "if condition1:\n",
        "  print(\"condition1 is true\")\n",
        "elif condition2:\n",
        "  print(\"condition2 is true\")\n",
        "else:\n",
        "  print(\"condition1 and condition 2 are false\")"
      ],
      "execution_count": null,
      "outputs": []
    },
    {
      "cell_type": "markdown",
      "metadata": {
        "id": "iaRDtJdy8HhW"
      },
      "source": [
        "例えば，数値の大小を比較したいときは，下記のように書くことができます．"
      ]
    },
    {
      "cell_type": "code",
      "metadata": {
        "colab": {
          "base_uri": "https://localhost:8080/"
        },
        "id": "iU7kd3ip8UK2",
        "outputId": "afd551c2-9719-4dce-b466-b50230cc80d4"
      },
      "source": [
        "x = 10\n",
        "y = 20\n",
        "if x > y:\n",
        "  print(\"x is larger than y\")\n",
        "else:\n",
        "  print(\"y is larger than x\")"
      ],
      "execution_count": null,
      "outputs": [
        {
          "output_type": "stream",
          "name": "stdout",
          "text": [
            "y is larger than x\n"
          ]
        }
      ]
    },
    {
      "cell_type": "markdown",
      "metadata": {
        "id": "7RL3dOPO8mKS"
      },
      "source": [
        "上記を少し改良して，値が大きい変数を返す関数は以下のようになります．"
      ]
    },
    {
      "cell_type": "code",
      "metadata": {
        "id": "SEzy_I7U8h4b"
      },
      "source": [
        "def comp(x, y):\n",
        "  if x > y:\n",
        "    return x\n",
        "  else:\n",
        "    return y"
      ],
      "execution_count": null,
      "outputs": []
    },
    {
      "cell_type": "markdown",
      "metadata": {
        "id": "zOS_hMMP9XAo"
      },
      "source": [
        "##### **条件の記述方法**\n",
        "\n",
        "よく使用する条件の記述としては下記のものがあります．\n",
        "\n",
        "```\n",
        "x < y         # x は y より小さい\n",
        "x <= y        # x は y 以下\n",
        "x > y         # x は y より大きい\n",
        "x >= y        # x は y 以上\n",
        "x == y        # x と y は等しい\n",
        "x != y        # x と y は等しくない\n",
        "```\n",
        "\n",
        "\n",
        "\n",
        "\n"
      ]
    },
    {
      "cell_type": "markdown",
      "metadata": {
        "id": "VzTR2d3B935n"
      },
      "source": [
        "##### **複数条件の組み合わせ**\n",
        "\n",
        "if文では複数の条件を同時に考慮することができます．\n",
        "\n",
        "```\n",
        "x > 0 and y > 0   # x>0 かつ y>0\n",
        "x > 0 or y > 0    # x>0 もしくは y>0\n",
        "```\n",
        "\n"
      ]
    },
    {
      "cell_type": "code",
      "metadata": {
        "colab": {
          "base_uri": "https://localhost:8080/"
        },
        "id": "H9V0YwF_82QC",
        "outputId": "a0d51b3e-5bdc-4fad-86f7-95dbeaeb0780"
      },
      "source": [
        "x = 7\n",
        "if x > 0 and x % 2 == 0:\n",
        "  print(\"xは正の偶数\")\n",
        "elif x > 0 and x % 2 != 0:\n",
        "  print(\"xは正の奇数\")"
      ],
      "execution_count": null,
      "outputs": [
        {
          "output_type": "stream",
          "name": "stdout",
          "text": [
            "xは正の奇数\n"
          ]
        }
      ]
    },
    {
      "cell_type": "markdown",
      "metadata": {
        "id": "KS1tlxVOBrHz"
      },
      "source": [
        "##### **否定を表す条件**\n",
        "\n",
        "not演算子によって，条件の否定を表現することもできます．"
      ]
    },
    {
      "cell_type": "code",
      "metadata": {
        "colab": {
          "base_uri": "https://localhost:8080/"
        },
        "id": "KmP68ntVANZh",
        "outputId": "58ee4efe-0441-4d9e-bdd3-0088c046915d"
      },
      "source": [
        "not x < y    # xがyより小さくない"
      ],
      "execution_count": null,
      "outputs": [
        {
          "output_type": "execute_result",
          "data": {
            "text/plain": [
              "False"
            ]
          },
          "metadata": {},
          "execution_count": 10
        }
      ]
    },
    {
      "cell_type": "markdown",
      "metadata": {
        "id": "HA7ZWSdrCqV5"
      },
      "source": [
        "\n",
        "\n",
        "---\n",
        "\n",
        "#### **繰り返し文（for, while）**\n",
        "\n",
        "同じ処理を繰り返したい場合は，`for`文もしくは`while`文が使用されます．\n",
        "forもしくはwhile文内のインデントは下げるように気をつけましょう．"
      ]
    },
    {
      "cell_type": "code",
      "metadata": {
        "colab": {
          "base_uri": "https://localhost:8080/"
        },
        "id": "Pen4StftCXZQ",
        "outputId": "57482910-04f6-439c-dd44-548f7bcf69a4"
      },
      "source": [
        "for x in range(10):\n",
        "  print(x)"
      ],
      "execution_count": null,
      "outputs": [
        {
          "output_type": "stream",
          "name": "stdout",
          "text": [
            "0\n",
            "1\n",
            "2\n",
            "3\n",
            "4\n",
            "5\n",
            "6\n",
            "7\n",
            "8\n",
            "9\n"
          ]
        }
      ]
    },
    {
      "cell_type": "markdown",
      "metadata": {
        "id": "91BH8E_GD2uI"
      },
      "source": [
        "for文はリスト，文字列，辞書など様々なデータ型に適用することが可能です．"
      ]
    },
    {
      "cell_type": "code",
      "metadata": {
        "colab": {
          "base_uri": "https://localhost:8080/"
        },
        "id": "uO1J_UEpDS42",
        "outputId": "8e5c49f6-87f4-4d3e-e08c-0f5a70a83e5c"
      },
      "source": [
        "for x in [10, 20, 30]:\n",
        "  print(1 + x)"
      ],
      "execution_count": null,
      "outputs": [
        {
          "output_type": "stream",
          "name": "stdout",
          "text": [
            "11\n",
            "21\n",
            "31\n"
          ]
        }
      ]
    },
    {
      "cell_type": "code",
      "metadata": {
        "colab": {
          "base_uri": "https://localhost:8080/"
        },
        "id": "vVvuvKsFD0-P",
        "outputId": "a7a9163b-91d4-457e-e5e4-34c543817984"
      },
      "source": [
        "for x in 'computer':\n",
        "  print(x)"
      ],
      "execution_count": null,
      "outputs": [
        {
          "output_type": "stream",
          "name": "stdout",
          "text": [
            "c\n",
            "o\n",
            "m\n",
            "p\n",
            "u\n",
            "t\n",
            "e\n",
            "r\n"
          ]
        }
      ]
    },
    {
      "cell_type": "markdown",
      "metadata": {
        "id": "6OeHIc6rL_V6"
      },
      "source": [
        "while文もC言語などと同様に条件がTrueのときに，ブロック内の処理を繰り返します．"
      ]
    },
    {
      "cell_type": "code",
      "metadata": {
        "colab": {
          "base_uri": "https://localhost:8080/"
        },
        "id": "Zef7P1AFHZge",
        "outputId": "a41939e1-2879-4adb-d9c3-d03cdf50e4df"
      },
      "source": [
        "x = 5\n",
        "while x > 0:\n",
        "  print(x)\n",
        "  x -= 1 "
      ],
      "execution_count": null,
      "outputs": [
        {
          "output_type": "stream",
          "name": "stdout",
          "text": [
            "5\n",
            "4\n",
            "3\n",
            "2\n",
            "1\n"
          ]
        }
      ]
    },
    {
      "cell_type": "markdown",
      "metadata": {
        "id": "fsy1HaJWMTE-"
      },
      "source": [
        "\n",
        "\n",
        "---\n",
        "\n",
        "#### **break**\n",
        "\n",
        "`break`を使うことで繰り返し処理の途中でループを抜けることができます．\n"
      ]
    },
    {
      "cell_type": "code",
      "metadata": {
        "colab": {
          "base_uri": "https://localhost:8080/"
        },
        "id": "EpGHMSXMMMYC",
        "outputId": "ccd14f68-a7ef-41dc-dcf9-4f93870a6b73"
      },
      "source": [
        "for x in range(10):\n",
        "  if x > 6:\n",
        "    break\n",
        "  print(x)"
      ],
      "execution_count": null,
      "outputs": [
        {
          "output_type": "stream",
          "name": "stdout",
          "text": [
            "0\n",
            "1\n",
            "2\n",
            "3\n",
            "4\n",
            "5\n",
            "6\n"
          ]
        }
      ]
    },
    {
      "cell_type": "markdown",
      "metadata": {
        "id": "2heGgnpwWFS_"
      },
      "source": [
        "\n",
        "\n",
        "---\n",
        "\n",
        "### **リスト**\n",
        "\n",
        "\n",
        "何らかのデータが直列に並んでいて，インデックス番号によって要素にアクセスできるデータ構造をシーケンスと呼びます．そのうち最も重要なものがリストになります．\n",
        "\n"
      ]
    },
    {
      "cell_type": "code",
      "metadata": {
        "id": "HffKwmSIM0zO"
      },
      "source": [
        "# リストの定義\n",
        "x = [1, 2, 3, 4]"
      ],
      "execution_count": null,
      "outputs": []
    },
    {
      "cell_type": "code",
      "metadata": {
        "colab": {
          "base_uri": "https://localhost:8080/"
        },
        "id": "Zw4PqT3JcRhh",
        "outputId": "f11ae78d-e181-43ea-ac39-26d6be857d19"
      },
      "source": [
        "# リストの要素数はlen()で取得可能\n",
        "len(x)"
      ],
      "execution_count": null,
      "outputs": [
        {
          "output_type": "execute_result",
          "data": {
            "text/plain": [
              "4"
            ]
          },
          "metadata": {},
          "execution_count": 2
        }
      ]
    },
    {
      "cell_type": "code",
      "metadata": {
        "colab": {
          "base_uri": "https://localhost:8080/"
        },
        "id": "lzWmk9Hqcg-8",
        "outputId": "f20c3beb-f056-4387-fe7e-5b458fdda9e7"
      },
      "source": [
        "# 各要素にはインデックスでアクセス可能. インデックス範囲は， [0，　　len(x)-1].\n",
        "x[0]"
      ],
      "execution_count": null,
      "outputs": [
        {
          "output_type": "execute_result",
          "data": {
            "text/plain": [
              "1"
            ]
          },
          "metadata": {},
          "execution_count": 3
        }
      ]
    },
    {
      "cell_type": "code",
      "metadata": {
        "colab": {
          "base_uri": "https://localhost:8080/"
        },
        "id": "ncVODg2wcxhy",
        "outputId": "c0eb2109-17cf-43cc-a40e-33442d82eaee"
      },
      "source": [
        "x[3]"
      ],
      "execution_count": null,
      "outputs": [
        {
          "output_type": "execute_result",
          "data": {
            "text/plain": [
              "4"
            ]
          },
          "metadata": {},
          "execution_count": 4
        }
      ]
    },
    {
      "cell_type": "code",
      "metadata": {
        "colab": {
          "base_uri": "https://localhost:8080/"
        },
        "id": "QmEKeBpDdFCv",
        "outputId": "cf03371a-c916-489b-fac2-6a85a7c12ff8"
      },
      "source": [
        "# 後ろから参照したい場合は「-」を使用可能\n",
        "x[-1]"
      ],
      "execution_count": null,
      "outputs": [
        {
          "output_type": "execute_result",
          "data": {
            "text/plain": [
              "4"
            ]
          },
          "metadata": {},
          "execution_count": 5
        }
      ]
    },
    {
      "cell_type": "code",
      "metadata": {
        "colab": {
          "base_uri": "https://localhost:8080/"
        },
        "id": "1w2YHvVpdSpG",
        "outputId": "64307b28-bf80-489f-b3f7-4d812a51fdce"
      },
      "source": [
        "x[-2]"
      ],
      "execution_count": null,
      "outputs": [
        {
          "output_type": "execute_result",
          "data": {
            "text/plain": [
              "3"
            ]
          },
          "metadata": {},
          "execution_count": 6
        }
      ]
    },
    {
      "cell_type": "markdown",
      "metadata": {
        "id": "0SNPnLrgdcfh"
      },
      "source": [
        "####  **スライス**\n",
        "\n",
        "連続部分列には，スライスによって参照できます．"
      ]
    },
    {
      "cell_type": "code",
      "metadata": {
        "id": "Hao5rQ_MdUFE"
      },
      "source": [
        "# リストの定義\n",
        "x = [1, 2, 3, 4, 5]"
      ],
      "execution_count": null,
      "outputs": []
    },
    {
      "cell_type": "code",
      "metadata": {
        "colab": {
          "base_uri": "https://localhost:8080/"
        },
        "id": "WqM2-P9EdlsC",
        "outputId": "15870b55-66fc-4939-c296-a7d713061087"
      },
      "source": [
        "# x[0]〜x[2] までを取得（x[3]は含まれない）\n",
        "x[0:3]"
      ],
      "execution_count": null,
      "outputs": [
        {
          "output_type": "execute_result",
          "data": {
            "text/plain": [
              "[1, 2, 3]"
            ]
          },
          "metadata": {},
          "execution_count": 9
        }
      ]
    },
    {
      "cell_type": "code",
      "metadata": {
        "colab": {
          "base_uri": "https://localhost:8080/"
        },
        "id": "Cih6c_cTdqyL",
        "outputId": "f47fe8ad-6e97-414e-e7ae-c02ac4272183"
      },
      "source": [
        "# x[2]以降を取得\n",
        "x[2:]"
      ],
      "execution_count": null,
      "outputs": [
        {
          "output_type": "execute_result",
          "data": {
            "text/plain": [
              "[3, 4, 5]"
            ]
          },
          "metadata": {},
          "execution_count": 10
        }
      ]
    },
    {
      "cell_type": "code",
      "metadata": {
        "colab": {
          "base_uri": "https://localhost:8080/"
        },
        "id": "q0oKsKyee0fK",
        "outputId": "76295f9c-84e7-45bf-aaa3-76b77b75a536"
      },
      "source": [
        "# x[1]までを取得\n",
        "x[:2]"
      ],
      "execution_count": null,
      "outputs": [
        {
          "output_type": "execute_result",
          "data": {
            "text/plain": [
              "[1, 2]"
            ]
          },
          "metadata": {},
          "execution_count": 12
        }
      ]
    },
    {
      "cell_type": "markdown",
      "metadata": {
        "id": "0n-6AjTUfGWd"
      },
      "source": [
        "#### **リストの連結**\n",
        "\n",
        "リスト同士の連結は「+」で実行可能です．"
      ]
    },
    {
      "cell_type": "code",
      "metadata": {
        "colab": {
          "base_uri": "https://localhost:8080/"
        },
        "id": "g8X8Qx8Se7-S",
        "outputId": "c1234c34-1b8c-48e1-aade-a7bcdec247b0"
      },
      "source": [
        "[1, 2, 3] + [4, 5]"
      ],
      "execution_count": null,
      "outputs": [
        {
          "output_type": "execute_result",
          "data": {
            "text/plain": [
              "[1, 2, 3, 4, 5]"
            ]
          },
          "metadata": {},
          "execution_count": 13
        }
      ]
    },
    {
      "cell_type": "markdown",
      "metadata": {
        "id": "SzkGx9snfU0d"
      },
      "source": [
        "同じ要素を繰り返し生成したい場合は「＊」が使えます．"
      ]
    },
    {
      "cell_type": "code",
      "metadata": {
        "colab": {
          "base_uri": "https://localhost:8080/"
        },
        "id": "DtfHrDzVfRl0",
        "outputId": "26074bed-734a-4f4a-aefc-75386eaae874"
      },
      "source": [
        "[0] * 10"
      ],
      "execution_count": null,
      "outputs": [
        {
          "output_type": "execute_result",
          "data": {
            "text/plain": [
              "[0, 0, 0, 0, 0, 0, 0, 0, 0, 0]"
            ]
          },
          "metadata": {},
          "execution_count": 14
        }
      ]
    },
    {
      "cell_type": "code",
      "metadata": {
        "colab": {
          "base_uri": "https://localhost:8080/"
        },
        "id": "Ompm4FJLfd84",
        "outputId": "de16da7c-c69f-40fc-8356-f4291b44c28d"
      },
      "source": [
        "[0, 1] * 5"
      ],
      "execution_count": 1,
      "outputs": [
        {
          "output_type": "execute_result",
          "data": {
            "text/plain": [
              "[0, 1, 0, 1, 0, 1, 0, 1, 0, 1]"
            ]
          },
          "metadata": {},
          "execution_count": 1
        }
      ]
    },
    {
      "cell_type": "markdown",
      "metadata": {
        "id": "LHuO9Yax7AwQ"
      },
      "source": [
        "#### **リストの生成方法**\n",
        "\n",
        "連番を作りたいときは，range関数との組み合わせが効率的です．\n"
      ]
    },
    {
      "cell_type": "code",
      "metadata": {
        "colab": {
          "base_uri": "https://localhost:8080/"
        },
        "id": "08eb0sdv7G0V",
        "outputId": "0bf27531-4b08-4088-8fad-c7fe02474de4"
      },
      "source": [
        "list(range(5))"
      ],
      "execution_count": null,
      "outputs": [
        {
          "output_type": "execute_result",
          "data": {
            "text/plain": [
              "[0, 1, 2, 3, 4]"
            ]
          },
          "metadata": {},
          "execution_count": 1
        }
      ]
    },
    {
      "cell_type": "code",
      "metadata": {
        "id": "1m9VzsLzfhWx",
        "colab": {
          "base_uri": "https://localhost:8080/"
        },
        "outputId": "36e09bff-fcc5-42fe-86c2-39b32bf856eb"
      },
      "source": [
        "# 2~5\n",
        "list(range(2, 6))"
      ],
      "execution_count": null,
      "outputs": [
        {
          "output_type": "execute_result",
          "data": {
            "text/plain": [
              "[2, 3, 4, 5]"
            ]
          },
          "metadata": {},
          "execution_count": 3
        }
      ]
    },
    {
      "cell_type": "code",
      "metadata": {
        "colab": {
          "base_uri": "https://localhost:8080/"
        },
        "id": "DDXG4r7W7UE_",
        "outputId": "60825f82-6664-4db5-ae05-0b65ca4d8773"
      },
      "source": [
        "# 2から始まり，ステップ幅3，10未満までのリスト\n",
        "list(range(2, 10, 3))"
      ],
      "execution_count": null,
      "outputs": [
        {
          "output_type": "execute_result",
          "data": {
            "text/plain": [
              "[2, 5, 8]"
            ]
          },
          "metadata": {},
          "execution_count": 5
        }
      ]
    },
    {
      "cell_type": "markdown",
      "metadata": {
        "id": "NmGN7img7yb9"
      },
      "source": [
        "#### **リストの内包表記**\n",
        "\n",
        "for文で明示的にリストをいじるよりも，内包表記の方が効率良く処理が行えます．\n"
      ]
    },
    {
      "cell_type": "code",
      "metadata": {
        "id": "Yee1zJR77hL9"
      },
      "source": [
        "x = [1, 2, 15, 30]"
      ],
      "execution_count": null,
      "outputs": []
    },
    {
      "cell_type": "code",
      "metadata": {
        "colab": {
          "base_uri": "https://localhost:8080/"
        },
        "id": "ln4dZ5ze8B5E",
        "outputId": "2be2a5c9-78fc-4a42-9f74-a754d582c7d5"
      },
      "source": [
        "# xの各要素を2倍したリストを生成\n",
        "[2 * a for a in x]"
      ],
      "execution_count": null,
      "outputs": [
        {
          "output_type": "execute_result",
          "data": {
            "text/plain": [
              "[2, 4, 30, 60]"
            ]
          },
          "metadata": {},
          "execution_count": 7
        }
      ]
    },
    {
      "cell_type": "markdown",
      "metadata": {
        "id": "91MPdvEA8VGq"
      },
      "source": [
        "if文と組み合わせることで，もう少し複雑な処理も簡易に記述できます．"
      ]
    },
    {
      "cell_type": "code",
      "metadata": {
        "colab": {
          "base_uri": "https://localhost:8080/"
        },
        "id": "1sQPMgQ_8FUr",
        "outputId": "78a460ec-196d-4639-c54a-5aa2256f2de1"
      },
      "source": [
        "# xの要素のうち，偶数の要素のみ2倍する\n",
        "[2 * a for a in x if a % 2 ==0]"
      ],
      "execution_count": null,
      "outputs": [
        {
          "output_type": "execute_result",
          "data": {
            "text/plain": [
              "[4, 60]"
            ]
          },
          "metadata": {},
          "execution_count": 8
        }
      ]
    },
    {
      "cell_type": "code",
      "metadata": {
        "colab": {
          "base_uri": "https://localhost:8080/"
        },
        "id": "-3HkCfJv8Qty",
        "outputId": "1dffa809-874c-4f94-aadf-fb43f1b2df4f"
      },
      "source": [
        "# 各連番の値を2乗して，リストを初期化\n",
        "[a ** 2 for a in range(5)]"
      ],
      "execution_count": null,
      "outputs": [
        {
          "output_type": "execute_result",
          "data": {
            "text/plain": [
              "[0, 1, 4, 9, 16]"
            ]
          },
          "metadata": {},
          "execution_count": 9
        }
      ]
    },
    {
      "cell_type": "markdown",
      "metadata": {
        "id": "hSDlsbYX8zxY"
      },
      "source": [
        "#### **リストの変更**\n",
        "\n",
        "リストはmutableなデータ型になります．そのため，リストの中身は自由に変更可能です．"
      ]
    },
    {
      "cell_type": "code",
      "metadata": {
        "colab": {
          "base_uri": "https://localhost:8080/"
        },
        "id": "wbaHQJHv8owb",
        "outputId": "6d97a5a7-e161-45ca-80a1-6d6b603d5d66"
      },
      "source": [
        "# 要素の変更\n",
        "x = [1, 2, 3, 4, 5]\n",
        "x[0] = 0\n",
        "print(x)"
      ],
      "execution_count": null,
      "outputs": [
        {
          "output_type": "stream",
          "name": "stdout",
          "text": [
            "[0, 2, 3, 4, 5]\n"
          ]
        }
      ]
    },
    {
      "cell_type": "code",
      "metadata": {
        "colab": {
          "base_uri": "https://localhost:8080/"
        },
        "id": "PAy-biZF9tfV",
        "outputId": "0a86637f-a1b4-41fa-d2b8-44cd4ff534cf"
      },
      "source": [
        "# リストへの要素の追加(末尾に追加していく)\n",
        "x = []\n",
        "x.append(10)\n",
        "x.append(20)\n",
        "print(x)"
      ],
      "execution_count": null,
      "outputs": [
        {
          "output_type": "stream",
          "name": "stdout",
          "text": [
            "[10, 20]\n"
          ]
        }
      ]
    },
    {
      "cell_type": "code",
      "metadata": {
        "colab": {
          "base_uri": "https://localhost:8080/"
        },
        "id": "JadPLBTN-FI_",
        "outputId": "cd7f11ba-cf25-4082-a62e-2f6d4f772826"
      },
      "source": [
        "# 要素の削除（末尾から削除していく）\n",
        "x = [1, 2, 3]\n",
        "x.pop()\n",
        "print(x)"
      ],
      "execution_count": null,
      "outputs": [
        {
          "output_type": "stream",
          "name": "stdout",
          "text": [
            "[1, 2]\n"
          ]
        }
      ]
    },
    {
      "cell_type": "code",
      "metadata": {
        "colab": {
          "base_uri": "https://localhost:8080/"
        },
        "id": "Fcoqsbbg-LgF",
        "outputId": "15d0b036-8b0a-4d4a-96af-1a17a689a5f2"
      },
      "source": [
        "# 任意の位置の要素の変更も可能\n",
        "x = list(range(5))\n",
        "print(x)\n",
        "x.insert(2, 222)\n",
        "print(x)"
      ],
      "execution_count": null,
      "outputs": [
        {
          "output_type": "stream",
          "name": "stdout",
          "text": [
            "[0, 1, 2, 3, 4]\n",
            "[0, 1, 222, 2, 3, 4]\n"
          ]
        }
      ]
    },
    {
      "cell_type": "code",
      "metadata": {
        "colab": {
          "base_uri": "https://localhost:8080/"
        },
        "id": "tdNKZUSC-v7J",
        "outputId": "123a6371-44ea-4193-f636-e9eb12f27c78"
      },
      "source": [
        "# 任意の位置の要素の削除も可能\n",
        "x = list(range(5))\n",
        "print(x)\n",
        "del x[2]\n",
        "print(x)"
      ],
      "execution_count": null,
      "outputs": [
        {
          "output_type": "stream",
          "name": "stdout",
          "text": [
            "[0, 1, 2, 3, 4]\n",
            "[0, 1, 3, 4]\n"
          ]
        }
      ]
    },
    {
      "cell_type": "code",
      "metadata": {
        "colab": {
          "base_uri": "https://localhost:8080/"
        },
        "id": "koXNEK4r_EKV",
        "outputId": "b3498303-23a2-4e3d-c69b-97f585f844c5"
      },
      "source": [
        "# リストの削除\n",
        "x = list(range(5))\n",
        "print(x)\n",
        "x.clear()\n",
        "print(x)"
      ],
      "execution_count": null,
      "outputs": [
        {
          "output_type": "stream",
          "name": "stdout",
          "text": [
            "[0, 1, 2, 3, 4]\n",
            "[]\n"
          ]
        }
      ]
    },
    {
      "cell_type": "code",
      "metadata": {
        "colab": {
          "base_uri": "https://localhost:8080/"
        },
        "id": "lABKBn2x_PAH",
        "outputId": "431ce381-7aea-4490-ccb7-8b6111cd51df"
      },
      "source": [
        "# 特定の値の要素の削除\n",
        "x = [a ** 2 for a in range(5)]\n",
        "print(x)\n",
        "x.remove(16)\n",
        "print(x)"
      ],
      "execution_count": null,
      "outputs": [
        {
          "output_type": "stream",
          "name": "stdout",
          "text": [
            "[0, 1, 4, 9, 16]\n",
            "[0, 1, 4, 9]\n"
          ]
        }
      ]
    },
    {
      "cell_type": "markdown",
      "metadata": {
        "id": "UHHVaWEO_xLF"
      },
      "source": [
        "\n",
        "\n",
        "---\n",
        "\n",
        "\n",
        "### **タプル**\n",
        "\n",
        "タプルはリストとは異なり，immutableなシーケンスです．ゆえに，長さや要素を変更することはできません．\n",
        "一見すると，リストだけで十分そうに見えますが，以下のようなメリットがあります．\n",
        "\n",
        "\n",
        "\n",
        "*   変更等が許されていないため内部構造が最適化されており，リストに比べて動作が高速かつメモリ消費も少ない\n",
        "*   プログラムの可読性が上がる．タプルでデータを定義した場合，それらのデータは絶対に変更されないと確信できる．\n"
      ]
    },
    {
      "cell_type": "code",
      "metadata": {
        "colab": {
          "base_uri": "https://localhost:8080/"
        },
        "id": "gXxahxokG7wl",
        "outputId": "f57f17cd-1b99-4369-f350-8ff15fedd6b1"
      },
      "source": [
        "x = (1, 2, 3)\n",
        "print(x)"
      ],
      "execution_count": null,
      "outputs": [
        {
          "output_type": "stream",
          "name": "stdout",
          "text": [
            "(1, 2, 3)\n"
          ]
        }
      ]
    },
    {
      "cell_type": "code",
      "metadata": {
        "colab": {
          "base_uri": "https://localhost:8080/",
          "height": 180
        },
        "id": "dM9USekp_fNj",
        "outputId": "52841d66-15d6-430f-fa66-17b8073768c6"
      },
      "source": [
        "# 要素の変更等はできない\n",
        "x = (1, 2, 3)\n",
        "x[0] = 0"
      ],
      "execution_count": null,
      "outputs": [
        {
          "output_type": "error",
          "ename": "TypeError",
          "evalue": "ignored",
          "traceback": [
            "\u001b[0;31m---------------------------------------------------------------------------\u001b[0m",
            "\u001b[0;31mTypeError\u001b[0m                                 Traceback (most recent call last)",
            "\u001b[0;32m<ipython-input-35-c600d2485281>\u001b[0m in \u001b[0;36m<module>\u001b[0;34m()\u001b[0m\n\u001b[1;32m      1\u001b[0m \u001b[0mx\u001b[0m \u001b[0;34m=\u001b[0m \u001b[0;34m(\u001b[0m\u001b[0;36m1\u001b[0m\u001b[0;34m,\u001b[0m \u001b[0;36m2\u001b[0m\u001b[0;34m,\u001b[0m \u001b[0;36m3\u001b[0m\u001b[0;34m)\u001b[0m\u001b[0;34m\u001b[0m\u001b[0;34m\u001b[0m\u001b[0m\n\u001b[0;32m----> 2\u001b[0;31m \u001b[0mx\u001b[0m\u001b[0;34m[\u001b[0m\u001b[0;36m0\u001b[0m\u001b[0;34m]\u001b[0m \u001b[0;34m=\u001b[0m \u001b[0;36m0\u001b[0m\u001b[0;34m\u001b[0m\u001b[0;34m\u001b[0m\u001b[0m\n\u001b[0m",
            "\u001b[0;31mTypeError\u001b[0m: 'tuple' object does not support item assignment"
          ]
        }
      ]
    },
    {
      "cell_type": "markdown",
      "metadata": {
        "id": "yHHEj078G4yd"
      },
      "source": [
        "\n",
        "\n",
        "---\n",
        "\n",
        "### **文字列（str）**\n",
        "\n",
        "文字列も変更不能なシーケンスです．"
      ]
    },
    {
      "cell_type": "code",
      "metadata": {
        "id": "mqaMUlrDHPsd"
      },
      "source": [
        "# シングルクォートでもダブルクォートでもOK\n",
        "s = \"hello, world\"\n",
        "s = 'hello, world'"
      ],
      "execution_count": null,
      "outputs": []
    },
    {
      "cell_type": "markdown",
      "metadata": {
        "id": "uDo7NnqJIKrW"
      },
      "source": [
        "文字列型には特有のメソッドがあります．ここでは一例をお見せします．"
      ]
    },
    {
      "cell_type": "code",
      "metadata": {
        "colab": {
          "base_uri": "https://localhost:8080/"
        },
        "id": "413JK4s4Hh0E",
        "outputId": "e1f9e3a2-fcd2-49cd-a967-48770a239a8a"
      },
      "source": [
        "# スペースで分割\n",
        "s = \"hello world\"\n",
        "s = s.split()\n",
        "print(s)"
      ],
      "execution_count": null,
      "outputs": [
        {
          "output_type": "stream",
          "name": "stdout",
          "text": [
            "['hello', 'world']\n"
          ]
        }
      ]
    },
    {
      "cell_type": "code",
      "metadata": {
        "colab": {
          "base_uri": "https://localhost:8080/"
        },
        "id": "UmDvgszmHqyH",
        "outputId": "62f57223-359c-4564-84b2-5456a2057321"
      },
      "source": [
        "# 指定した文字で分割\n",
        "s = \"hello, world\"\n",
        "s = s.split(',')\n",
        "print(s)"
      ],
      "execution_count": null,
      "outputs": [
        {
          "output_type": "stream",
          "name": "stdout",
          "text": [
            "['hello', ' world']\n"
          ]
        }
      ]
    },
    {
      "cell_type": "code",
      "metadata": {
        "colab": {
          "base_uri": "https://localhost:8080/"
        },
        "id": "7bQJdfFuIebM",
        "outputId": "d61e55c5-6383-407f-a6d6-69014fb33928"
      },
      "source": [
        "# 指定した文字列で置換\n",
        "date = \"2021-10-25\"\n",
        "date = date.replace('-', '/')\n",
        "print(date)"
      ],
      "execution_count": null,
      "outputs": [
        {
          "output_type": "stream",
          "name": "stdout",
          "text": [
            "2021/10/25\n"
          ]
        }
      ]
    },
    {
      "cell_type": "code",
      "metadata": {
        "colab": {
          "base_uri": "https://localhost:8080/"
        },
        "id": "OCKXtOUyI4HO",
        "outputId": "a9b6027f-da20-4d72-883c-3a0338fbb7bd"
      },
      "source": [
        "# 数値と文字列の融合\n",
        "s = \"number {} and string {}\".format(10, \"abc\")\n",
        "print(s)"
      ],
      "execution_count": null,
      "outputs": [
        {
          "output_type": "stream",
          "name": "stdout",
          "text": [
            "number 10 and string abc\n"
          ]
        }
      ]
    },
    {
      "cell_type": "code",
      "metadata": {
        "colab": {
          "base_uri": "https://localhost:8080/"
        },
        "id": "Hm_rhdd0JEzp",
        "outputId": "416e41a8-2d1f-4106-cce0-e94abbd69939"
      },
      "source": [
        "# 引数指定も可能\n",
        "s = \"{1} {2}, {0}\".format(2021, \"October\", 25)\n",
        "print(s)"
      ],
      "execution_count": null,
      "outputs": [
        {
          "output_type": "stream",
          "name": "stdout",
          "text": [
            "October 25, 2021\n"
          ]
        }
      ]
    },
    {
      "cell_type": "code",
      "metadata": {
        "colab": {
          "base_uri": "https://localhost:8080/",
          "height": 35
        },
        "id": "2NfpFwKrJoax",
        "outputId": "c84b67f0-3500-413f-b9d6-32ebf2e5d5e5"
      },
      "source": [
        "# 書式も指定可能(足りない部分は空白埋め)\n",
        "\"{:5}\".format(123)"
      ],
      "execution_count": null,
      "outputs": [
        {
          "output_type": "execute_result",
          "data": {
            "application/vnd.google.colaboratory.intrinsic+json": {
              "type": "string"
            },
            "text/plain": [
              "'  123'"
            ]
          },
          "metadata": {},
          "execution_count": 51
        }
      ]
    },
    {
      "cell_type": "code",
      "metadata": {
        "colab": {
          "base_uri": "https://localhost:8080/",
          "height": 35
        },
        "id": "ceN7M9-jJ4cG",
        "outputId": "281b8f9d-c767-4185-ddc6-1daf901ba45b"
      },
      "source": [
        "# 書式も指定可能(足りない部分はゼロ埋め)\n",
        "\"{:05}\".format(123)"
      ],
      "execution_count": null,
      "outputs": [
        {
          "output_type": "execute_result",
          "data": {
            "application/vnd.google.colaboratory.intrinsic+json": {
              "type": "string"
            },
            "text/plain": [
              "'00123'"
            ]
          },
          "metadata": {},
          "execution_count": 52
        }
      ]
    },
    {
      "cell_type": "code",
      "metadata": {
        "colab": {
          "base_uri": "https://localhost:8080/",
          "height": 35
        },
        "id": "fxPob6TrKBkb",
        "outputId": "1c596e6f-3666-43c9-d957-bac175b597ab"
      },
      "source": [
        "# 小数点以下4桁に丸める\n",
        "\"{:.4f}\".format(3.141592)"
      ],
      "execution_count": null,
      "outputs": [
        {
          "output_type": "execute_result",
          "data": {
            "application/vnd.google.colaboratory.intrinsic+json": {
              "type": "string"
            },
            "text/plain": [
              "'3.1416'"
            ]
          },
          "metadata": {},
          "execution_count": 53
        }
      ]
    },
    {
      "cell_type": "markdown",
      "metadata": {
        "id": "QHfH0Q_RKNcj"
      },
      "source": [
        "\n",
        "\n",
        "---\n",
        "\n",
        "### **辞書（dict型）**\n",
        "\n",
        "これまでのシーケンスは整数値で各要素にアクセスしていましたが，辞書型では整数以外のものでインデクシングできます．\n",
        "\n",
        "インデクシングするものを「key」，keyがもつ値を「value」と呼びます．keyとしては，文字列，数値，タプルなどのimmutableなデータ型を使うことができる．\n",
        "\n",
        "一方，valueとしては，あらゆる型のデータを指定できます．\n",
        "\n",
        "下記は，文字列をkeyに，整数値をvalueとして初期化した辞書の例です．"
      ]
    },
    {
      "cell_type": "code",
      "metadata": {
        "id": "PcuO_7ceKIxG"
      },
      "source": [
        "score = {'Alice': 80, 'Bob': 90, 'Charlie': 100}"
      ],
      "execution_count": null,
      "outputs": []
    },
    {
      "cell_type": "code",
      "metadata": {
        "colab": {
          "base_uri": "https://localhost:8080/"
        },
        "id": "071SH26aSMtK",
        "outputId": "01603cee-6908-41d7-cad7-d3abf1d7f2af"
      },
      "source": [
        "# キー'Alice'がもつvalueにアクセス\n",
        "score['Alice']"
      ],
      "execution_count": null,
      "outputs": [
        {
          "output_type": "execute_result",
          "data": {
            "text/plain": [
              "80"
            ]
          },
          "metadata": {},
          "execution_count": 71
        }
      ]
    },
    {
      "cell_type": "code",
      "metadata": {
        "colab": {
          "base_uri": "https://localhost:8080/"
        },
        "id": "nQDJOoESSOzw",
        "outputId": "46386b5e-2f63-4274-ab92-515d2289a42b"
      },
      "source": [
        "# 辞書の要素は変更可能\n",
        "score['Alice'] = 100\n",
        "print(score['Alice'])"
      ],
      "execution_count": null,
      "outputs": [
        {
          "output_type": "stream",
          "name": "stdout",
          "text": [
            "100\n"
          ]
        }
      ]
    },
    {
      "cell_type": "code",
      "metadata": {
        "colab": {
          "base_uri": "https://localhost:8080/"
        },
        "id": "jDySMhgJUDpC",
        "outputId": "4f2ca9d5-6832-4604-8395-b7df291cef05"
      },
      "source": [
        "# key/valueの追加\n",
        "score['Dani'] = 70\n",
        "print(score)"
      ],
      "execution_count": null,
      "outputs": [
        {
          "output_type": "stream",
          "name": "stdout",
          "text": [
            "{'Alice': 80, 'Bob': 90, 'Charlie': 100, 'Dani': 70}\n"
          ]
        }
      ]
    },
    {
      "cell_type": "code",
      "metadata": {
        "colab": {
          "base_uri": "https://localhost:8080/"
        },
        "id": "o-MzUmnTSZAL",
        "outputId": "0bf379b2-0eb4-4436-98b7-9160f0e8450c"
      },
      "source": [
        "# key/valueの削除\n",
        "del score['Bob']\n",
        "print(score)"
      ],
      "execution_count": null,
      "outputs": [
        {
          "output_type": "stream",
          "name": "stdout",
          "text": [
            "{'Alice': 80, 'Charlie': 100, 'Dani': 70}\n"
          ]
        }
      ]
    },
    {
      "cell_type": "code",
      "metadata": {
        "colab": {
          "base_uri": "https://localhost:8080/"
        },
        "id": "R5xx2LllSgfV",
        "outputId": "ebd07286-2ee3-4d3e-8e8c-7aab69636d80"
      },
      "source": [
        "# リストへの型変換で，keyのリストが取得可能\n",
        "score = {'Alice': 80, 'Bob': 90, 'Charlie': 100}\n",
        "list(score)"
      ],
      "execution_count": null,
      "outputs": [
        {
          "output_type": "execute_result",
          "data": {
            "text/plain": [
              "['Alice', 'Bob', 'Charlie']"
            ]
          },
          "metadata": {},
          "execution_count": 75
        }
      ]
    },
    {
      "cell_type": "code",
      "metadata": {
        "colab": {
          "base_uri": "https://localhost:8080/"
        },
        "id": "NUdOiGQNTFAr",
        "outputId": "fe90700a-de3d-4adc-a7b2-94d6d10ff16a"
      },
      "source": [
        "# keyの有無はin演算子で調べることができる\n",
        "'Emi' in score"
      ],
      "execution_count": null,
      "outputs": [
        {
          "output_type": "execute_result",
          "data": {
            "text/plain": [
              "False"
            ]
          },
          "metadata": {},
          "execution_count": 78
        }
      ]
    },
    {
      "cell_type": "code",
      "metadata": {
        "colab": {
          "base_uri": "https://localhost:8080/"
        },
        "id": "IEPj1Pg2Up2C",
        "outputId": "c0030563-bc86-4b22-e27e-ccfaae71c009"
      },
      "source": [
        "'Alice' in score"
      ],
      "execution_count": null,
      "outputs": [
        {
          "output_type": "execute_result",
          "data": {
            "text/plain": [
              "True"
            ]
          },
          "metadata": {},
          "execution_count": 79
        }
      ]
    },
    {
      "cell_type": "markdown",
      "metadata": {
        "id": "eBIUXYmEU3QO"
      },
      "source": [
        "#### **安全なインデクシング**\n",
        "\n",
        "辞書に存在しないkeyでアクセスすると，エラーとなりプログラムが終了してしまいます．\n",
        "\n",
        "エラーを回避しつつ，辞書のvalueにアクセスする方法として，`get`関数があります．\n",
        "\n"
      ]
    },
    {
      "cell_type": "code",
      "metadata": {
        "id": "OLYS_orNUtCf"
      },
      "source": [
        "score = {'Alice': 80, 'Bob': 90, 'Charlie': 100}"
      ],
      "execution_count": null,
      "outputs": []
    },
    {
      "cell_type": "code",
      "metadata": {
        "colab": {
          "base_uri": "https://localhost:8080/",
          "height": 180
        },
        "id": "DcFCrQIEWGng",
        "outputId": "896a492e-6db2-45ec-b2a6-8889714976a4"
      },
      "source": [
        "# 登録されていないkeyを指定すると．．．\n",
        "score['G']"
      ],
      "execution_count": null,
      "outputs": [
        {
          "output_type": "error",
          "ename": "KeyError",
          "evalue": "ignored",
          "traceback": [
            "\u001b[0;31m---------------------------------------------------------------------------\u001b[0m",
            "\u001b[0;31mKeyError\u001b[0m                                  Traceback (most recent call last)",
            "\u001b[0;32m<ipython-input-81-5a6d11da7575>\u001b[0m in \u001b[0;36m<module>\u001b[0;34m()\u001b[0m\n\u001b[1;32m      1\u001b[0m \u001b[0;31m# 登録されていないkeyを指定すると．．．\u001b[0m\u001b[0;34m\u001b[0m\u001b[0;34m\u001b[0m\u001b[0;34m\u001b[0m\u001b[0m\n\u001b[0;32m----> 2\u001b[0;31m \u001b[0mscore\u001b[0m\u001b[0;34m[\u001b[0m\u001b[0;34m'G'\u001b[0m\u001b[0;34m]\u001b[0m\u001b[0;34m\u001b[0m\u001b[0;34m\u001b[0m\u001b[0m\n\u001b[0m",
            "\u001b[0;31mKeyError\u001b[0m: 'G'"
          ]
        }
      ]
    },
    {
      "cell_type": "code",
      "metadata": {
        "colab": {
          "base_uri": "https://localhost:8080/"
        },
        "id": "jHAxLiZwWQvV",
        "outputId": "ceb9ccfa-27b2-476e-b4f6-315d408e8287"
      },
      "source": [
        "# get関数を使えば，要素がない場合はNoneを返してくれる\n",
        "value = score.get('G')\n",
        "print(value)"
      ],
      "execution_count": null,
      "outputs": [
        {
          "output_type": "stream",
          "name": "stdout",
          "text": [
            "None\n"
          ]
        }
      ]
    },
    {
      "cell_type": "code",
      "metadata": {
        "colab": {
          "base_uri": "https://localhost:8080/"
        },
        "id": "EvQ_Nbh5WWhU",
        "outputId": "8a27dd3a-e26e-40a0-883c-b32bd29d15cb"
      },
      "source": [
        "# もちろん要素がある場合は，対応するvalueを返す\n",
        "value = score.get('Alice')\n",
        "print(value)"
      ],
      "execution_count": null,
      "outputs": [
        {
          "output_type": "stream",
          "name": "stdout",
          "text": [
            "80\n"
          ]
        }
      ]
    },
    {
      "cell_type": "markdown",
      "metadata": {
        "id": "tZnMTEhpWytp"
      },
      "source": [
        "get関数に第二引数に値を与えると，第一引数で指定した値を返してくれる（例外処理的に使える）．"
      ]
    },
    {
      "cell_type": "code",
      "metadata": {
        "colab": {
          "base_uri": "https://localhost:8080/"
        },
        "id": "0NVf65vQWloy",
        "outputId": "0070c5ff-d738-4e6f-adca-150d46c9d865"
      },
      "source": [
        "score = {'Alice': 80, 'Bob': 90, 'Charlie': 100}\n",
        "value = score.get('G', 0)\n",
        "print(value)"
      ],
      "execution_count": null,
      "outputs": [
        {
          "output_type": "stream",
          "name": "stdout",
          "text": [
            "0\n"
          ]
        }
      ]
    },
    {
      "cell_type": "markdown",
      "metadata": {
        "id": "5RiUf81AXSlK"
      },
      "source": [
        "#### **安全なkeyの登録**\n",
        "\n",
        "すでに辞書にkeyが登録されているときに，上書きされないように安全にkey/valueを登録する方法として，`setdefault`関数があります．\n",
        "\n"
      ]
    },
    {
      "cell_type": "code",
      "metadata": {
        "colab": {
          "base_uri": "https://localhost:8080/"
        },
        "id": "1yZpR9OcXCaF",
        "outputId": "469db30f-98dd-4827-a6b4-e4287fd6fe99"
      },
      "source": [
        "score = {'Alice': 80, 'Bob': 90, 'Charlie': 100}\n",
        "score.setdefault('Dani', 70)"
      ],
      "execution_count": null,
      "outputs": [
        {
          "output_type": "execute_result",
          "data": {
            "text/plain": [
              "70"
            ]
          },
          "metadata": {},
          "execution_count": 86
        }
      ]
    },
    {
      "cell_type": "code",
      "metadata": {
        "colab": {
          "base_uri": "https://localhost:8080/"
        },
        "id": "OJSjtR5xXuax",
        "outputId": "e3d2390a-ad06-4d2f-c617-c7e51991726d"
      },
      "source": [
        "# すでにある場合は，そのvalueを返す(上書きしない)．\n",
        "score.setdefault('Dani', 0)"
      ],
      "execution_count": null,
      "outputs": [
        {
          "output_type": "execute_result",
          "data": {
            "text/plain": [
              "70"
            ]
          },
          "metadata": {},
          "execution_count": 89
        }
      ]
    },
    {
      "cell_type": "markdown",
      "metadata": {
        "id": "MbkzgxhfYBb1"
      },
      "source": [
        "#### **全要素の削除**\n",
        "\n"
      ]
    },
    {
      "cell_type": "code",
      "metadata": {
        "id": "9lMYOjxFXzSD"
      },
      "source": [
        "score = {'Alice': 80, 'Bob': 90, 'Charlie': 100}\n",
        "score.clear()"
      ],
      "execution_count": null,
      "outputs": []
    },
    {
      "cell_type": "markdown",
      "metadata": {
        "id": "EvuETU0NYTvB"
      },
      "source": [
        "#### **要素の一覧を取得する**"
      ]
    },
    {
      "cell_type": "code",
      "metadata": {
        "colab": {
          "base_uri": "https://localhost:8080/"
        },
        "id": "_JsuLlIYYRWV",
        "outputId": "5c87ce5c-ed15-4f6a-ca32-994529a5bae8"
      },
      "source": [
        "score = {'Alice': 80, 'Bob': 90, 'Charlie': 100}\n",
        "# keyの一覧 (list(score)と同じ)\n",
        "list(score.keys())"
      ],
      "execution_count": null,
      "outputs": [
        {
          "output_type": "execute_result",
          "data": {
            "text/plain": [
              "['Alice', 'Bob', 'Charlie']"
            ]
          },
          "metadata": {},
          "execution_count": 93
        }
      ]
    },
    {
      "cell_type": "code",
      "metadata": {
        "colab": {
          "base_uri": "https://localhost:8080/"
        },
        "id": "Ts_PjTliYf-w",
        "outputId": "0458aaa4-97e1-49e6-ec92-426bbc4c2a70"
      },
      "source": [
        "# value一覧\n",
        "list(score.values())"
      ],
      "execution_count": null,
      "outputs": [
        {
          "output_type": "execute_result",
          "data": {
            "text/plain": [
              "[80, 90, 100]"
            ]
          },
          "metadata": {},
          "execution_count": 94
        }
      ]
    },
    {
      "cell_type": "code",
      "metadata": {
        "colab": {
          "base_uri": "https://localhost:8080/"
        },
        "id": "Pa3DdJUGYtWs",
        "outputId": "275b80db-5140-4046-fb9e-064ade1a76e7"
      },
      "source": [
        "# key/value一覧\n",
        "list(score.items())"
      ],
      "execution_count": null,
      "outputs": [
        {
          "output_type": "execute_result",
          "data": {
            "text/plain": [
              "[('Alice', 80), ('Bob', 90), ('Charlie', 100)]"
            ]
          },
          "metadata": {},
          "execution_count": 95
        }
      ]
    },
    {
      "cell_type": "markdown",
      "metadata": {
        "id": "NZnSH9mvY18j"
      },
      "source": [
        "#### **辞書のコピー**\n"
      ]
    },
    {
      "cell_type": "code",
      "metadata": {
        "colab": {
          "base_uri": "https://localhost:8080/"
        },
        "id": "oucShtFFYxgc",
        "outputId": "4fd6fcad-2693-4dad-9e9e-ac843a758ffd"
      },
      "source": [
        "score = {'Alice': 80, 'Bob': 90, 'Charlie': 100}\n",
        "score_copy = score.copy()\n",
        "print(score_copy)"
      ],
      "execution_count": null,
      "outputs": [
        {
          "output_type": "stream",
          "name": "stdout",
          "text": [
            "{'Alice': 80, 'Bob': 90, 'Charlie': 100}\n"
          ]
        }
      ]
    },
    {
      "cell_type": "markdown",
      "metadata": {
        "id": "WnonEr0oZZJJ"
      },
      "source": [
        "\n",
        "\n",
        "\n",
        "---\n",
        "\n",
        "\n",
        "---\n",
        "\n",
        "### **変数は箱ではない**\n",
        "\n",
        "リストや辞書のようにmutableなデータ構造を扱っていると，下記のような現象に遭遇します．"
      ]
    },
    {
      "cell_type": "code",
      "metadata": {
        "colab": {
          "base_uri": "https://localhost:8080/"
        },
        "id": "A4sVAFsHZBsr",
        "outputId": "d7245329-9a93-446e-f676-7517042d9d86"
      },
      "source": [
        "x = [1, 2, 3]\n",
        "y = x\n",
        "y[0] = 0\n",
        "print(x)\n",
        "print(y)"
      ],
      "execution_count": null,
      "outputs": [
        {
          "output_type": "stream",
          "name": "stdout",
          "text": [
            "[0, 2, 3]\n",
            "[0, 2, 3]\n"
          ]
        }
      ]
    },
    {
      "cell_type": "markdown",
      "metadata": {
        "id": "77sptFL4kKE5"
      },
      "source": [
        "`y[0]`だけを変更したつもりが，コピー元の`x[0]`も変更されてしまいました．\n",
        "\n",
        "なぜこうなってしまったのかをしっかり理解するためには，これまで「変数」と呼んできたもののイメージを刷新する必要があります．\n",
        "\n",
        "「変数 x 」というと，何やら x という名前の書かれた箱があり，その中にデータが保存される様子を多くの人が想像するのではないかと思います．\n",
        "\n",
        "しかし Python の変数はそういうものではありません．データには名前はついておらず．名前の書かれた荷札が別の場所にあります．その荷札からデータまで紐が延びています．\n",
        "\n",
        "変数とはこの荷札のことであり，代入とは荷札とデータを紐で結ぶことを意味します．\n",
        "\n",
        "このように考えると，先ほどの例の動作は正しく理解できます． `x = [10, 20, 30]` により，`[10, 20, 30]` というデータが作成され， `x` と書かれた荷札が作られて，両者は紐で結ばれます．\n",
        "\n",
        "次に `y = x` が実行されると，`y` と書かれた新しい荷札が作られ，`x` からの紐が延びている先の `[10, 20, 30]` と紐で結ばれます．\n",
        "\n",
        "同じデータに 2 つの荷札がついた状態になります．`y[0] = 123 `を実行すると，荷札 y から紐をたどってリストのデータにたどり着き，その最初の要素を `123 `に変更します．"
      ]
    },
    {
      "cell_type": "markdown",
      "metadata": {
        "id": "6B5J79FRlVtf"
      },
      "source": [
        "上記のイメージを正しく掴むために，下記のようなサイトが有用です．\n",
        "\n",
        "http://pythontutor.com/\n",
        "\n"
      ]
    },
    {
      "cell_type": "markdown",
      "metadata": {
        "id": "yQNy0AtFllY1"
      },
      "source": [
        "#### **リスト以外のデータも同様**\n",
        "\n",
        "今見てもらったような変数とデータの関係はリストに限りません．整数も実数もすべて同じ「荷札と紐のモデル」で動作します．\n",
        "\n",
        "「えっ? そんな馬鹿な．さすがに整数や実数は違うでしょ?」と思った人も多いかと思います．試しにさっきと同じようなものをリストではなく整数で考えてみましょう．"
      ]
    },
    {
      "cell_type": "code",
      "metadata": {
        "colab": {
          "base_uri": "https://localhost:8080/"
        },
        "id": "QFTgkV0OkIyt",
        "outputId": "a624f4da-0865-4d3f-d239-79163e7b47aa"
      },
      "source": [
        "x = 10\n",
        "y = x\n",
        "y = 0\n",
        "print(x)\n",
        "print(y)"
      ],
      "execution_count": null,
      "outputs": [
        {
          "output_type": "stream",
          "name": "stdout",
          "text": [
            "10\n",
            "0\n"
          ]
        }
      ]
    },
    {
      "cell_type": "markdown",
      "metadata": {
        "id": "qoAcVcOAl4Wf"
      },
      "source": [
        "今度は `y` を書き換えても x は変わりません．「やっぱり違うじゃないか．この場合は，`x `という箱と `y` という箱があって，その中に `10` とか `123` とかのデータが入っているんでしょ?」と思うかも知れません．\n",
        "\n",
        "しかしそうではないのです．実際に起きていることは以下のように説明できます．1行目の x` = 10` で整数データ `10` が作成され，荷札 `x `が作られて，両者が紐で結ばれます．2行目の `y = x` で荷札 `y` が作られて， `x `の繋がり先である `10` と紐で結ばれます．この時点で `x` と `y` は同じデータを共有しています．\n",
        "\n",
        "重要なのは次です．`y = 123` を実行すると，整数 `123` が作られ，荷札 `y` から延びている紐は `10` から切り離され，`123` と結ばれます．決して `10` が `123` で上書きされるわけではありません．\n",
        "\n",
        "結局，リストと整数の挙動の違いをもたらしたのは，リストは要素を変更可能なのに対して，整数は変更不能である (というか，変更できる「要素」に相当するものが存在しない) という点に尽きます．実際にはすべてが「荷札モデル」で動きますが，変更不能なものは「箱モデル」で考えても矛盾しません．"
      ]
    },
    {
      "cell_type": "markdown",
      "metadata": {
        "id": "iNzXBA48mhAY"
      },
      "source": [
        "#### **データの同一性，等価性**\n",
        "\n",
        "以上のように理解すると，2つのデータが互いに「等しい」というときに，異なる2種類の意味があることがわかります．\n",
        "\n",
        "ほとんどの場合に重要なのは，それらが「同じ値を持っているかどうか」 (等価性, equality) です．演算子 `==` や `!=` で判定するのはこれです．\n",
        "\n",
        "例えば"
      ]
    },
    {
      "cell_type": "code",
      "metadata": {
        "colab": {
          "base_uri": "https://localhost:8080/"
        },
        "id": "VnA3jghWl1MY",
        "outputId": "2f238f6a-1d25-4736-ad21-be6603432bda"
      },
      "source": [
        "x = [10, 20, 30]\n",
        "y = [10, 20, 30]\n",
        "print(x == y)"
      ],
      "execution_count": null,
      "outputs": [
        {
          "output_type": "stream",
          "name": "stdout",
          "text": [
            "True\n"
          ]
        }
      ]
    },
    {
      "cell_type": "markdown",
      "metadata": {
        "id": "NwQipCXem9CO"
      },
      "source": [
        "上記の2つのリストは同じ値をもっていますが，それぞれが参照しているデータの実体は別物です．\n",
        "\n"
      ]
    },
    {
      "cell_type": "code",
      "metadata": {
        "colab": {
          "base_uri": "https://localhost:8080/"
        },
        "id": "nxCt53HroGu1",
        "outputId": "929652dd-9794-46d5-8227-1027dfd039bd"
      },
      "source": [
        "# そのため，どちらかの要素を変更してももう一方へは影響無し\n",
        "x[0] = 0\n",
        "print(x)\n",
        "print(y)"
      ],
      "execution_count": null,
      "outputs": [
        {
          "output_type": "stream",
          "name": "stdout",
          "text": [
            "[0, 20, 30]\n",
            "[10, 20, 30]\n"
          ]
        }
      ]
    },
    {
      "cell_type": "markdown",
      "metadata": {
        "id": "EWudfgt0oDhs"
      },
      "source": [
        "この参照先のデータそのものが同一であるかどうか（同一性）は，演算子`is`と`is not`で判別することができます．"
      ]
    },
    {
      "cell_type": "code",
      "metadata": {
        "colab": {
          "base_uri": "https://localhost:8080/"
        },
        "id": "H7VGqEFom6SK",
        "outputId": "3062bc30-6d20-4697-9b7c-d84e1e921374"
      },
      "source": [
        "x is y"
      ],
      "execution_count": null,
      "outputs": [
        {
          "output_type": "execute_result",
          "data": {
            "text/plain": [
              "False"
            ]
          },
          "metadata": {},
          "execution_count": 100
        }
      ]
    },
    {
      "cell_type": "code",
      "metadata": {
        "colab": {
          "base_uri": "https://localhost:8080/"
        },
        "id": "N6yGCLaNnRTu",
        "outputId": "200392bc-85aa-4237-d881-7b621269b7fe"
      },
      "source": [
        "x is not y"
      ],
      "execution_count": null,
      "outputs": [
        {
          "output_type": "execute_result",
          "data": {
            "text/plain": [
              "True"
            ]
          },
          "metadata": {},
          "execution_count": 101
        }
      ]
    },
    {
      "cell_type": "markdown",
      "metadata": {
        "id": "K908RUs2n0P3"
      },
      "source": [
        "それぞれが同一でないことは，`id`関数によっても確認できます．それぞれの値そのものに意味はありませんが，それぞれのデータが異なるid値を持っていることが確認できます．"
      ]
    },
    {
      "cell_type": "code",
      "metadata": {
        "colab": {
          "base_uri": "https://localhost:8080/"
        },
        "id": "4Ack8vh-nStT",
        "outputId": "77524e98-64ee-4ee0-dc4d-b5ecb6367f15"
      },
      "source": [
        "id(x)"
      ],
      "execution_count": null,
      "outputs": [
        {
          "output_type": "execute_result",
          "data": {
            "text/plain": [
              "140187121723024"
            ]
          },
          "metadata": {},
          "execution_count": 102
        }
      ]
    },
    {
      "cell_type": "code",
      "metadata": {
        "colab": {
          "base_uri": "https://localhost:8080/"
        },
        "id": "a9BiebKFnVie",
        "outputId": "92cf5525-0882-4d17-94f6-7416cb57a54f"
      },
      "source": [
        "id(y)"
      ],
      "execution_count": null,
      "outputs": [
        {
          "output_type": "execute_result",
          "data": {
            "text/plain": [
              "140187121527856"
            ]
          },
          "metadata": {},
          "execution_count": 103
        }
      ]
    },
    {
      "cell_type": "markdown",
      "metadata": {
        "id": "rN5GqZyWoajf"
      },
      "source": [
        "#### **関数と変数の関係**\n",
        "\n",
        "関数を呼び出す場合の引数，返り値，ローカル変数の挙動を正しく理解しておくことは重要です．以下のコードを Online Python Tutor で「render all objects」を指定して実行してみてください.\n",
        "\n",
        "http://pythontutor.com/\n"
      ]
    },
    {
      "cell_type": "code",
      "metadata": {
        "id": "drTOLeJOnXE0"
      },
      "source": [
        "def func(x, a):\n",
        "    x[0] = 123\n",
        "    a = 456\n",
        "    y = [99, 88, 77]\n",
        "    return y\n",
        "\n",
        "def main():\n",
        "    xm = [10, 20, 30]\n",
        "    am = 1\n",
        "    ym = func(xm, am)\n",
        "    return\n",
        "\n",
        "main()"
      ],
      "execution_count": null,
      "outputs": []
    },
    {
      "cell_type": "markdown",
      "metadata": {
        "id": "NK1Mw3jEoocF"
      },
      "source": [
        "いくつか重要なことが理解できると思います．\n",
        "\n",
        "*   関数が呼び出されると，それぞれの関数用にフレーム (frame) (映像のフレームとは別の用語) と呼ばれるものが作られて，引数やローカル変数はその中に置かれます．フレーム内に置かれるのは「荷札」だけです．実際のデータは決して置かれません．\n",
        "*   引数や返り値の受け渡しは，代入文と同様に行われます．つまり，送り元の変数が指しているデータを，送り先の変数からも指して共有します．\n",
        "*   関数の実行中，その関数のフレームは保持されます．そこから他の関数を呼び出している間も保持されます (例えば main から `func` を呼んでいる間も main フレームは存在しています)．しかし，関数からリターンするとその関数のフレームは削除され，その中にあった変数も削除されます．\n",
        "*   変数が削除されても，それが指しているデータが削除されるわけではありません．\n",
        "\n",
        "最後の項目は注意が必要です．例えば上の例で `func` からリターンする前後の挙動に注目してください．\n",
        "\n",
        "変数 y が指しているリスト `[99, 88, 77]` は関数 `func`の中で作られたものです．`func` からリターンすると変数 y という「荷札」は消えますが，それが指している `[99, 88, 77]` まで消えるわけではありません．このリストは変数 `ym` が指すようになり， `main` 関数の中で利用できます (この例では何の利用もせずに終わりますが)．\n",
        "\n",
        "では，一度作成されたデータはずっと残るのかというとそうではなく，現在残っているどの変数からも参照されなくなったものは，自動的に削除されます．例えば `a` が指していた整数 `456` は， `func` からリターンすると削除されます．\n",
        "\n",
        "データの削除が起きるのは関数からのリターン時に限りません．例えば，"
      ]
    },
    {
      "cell_type": "code",
      "metadata": {
        "id": "lTfFWjqjonRe"
      },
      "source": [
        "x = 100\n",
        "x = 200"
      ],
      "execution_count": null,
      "outputs": []
    },
    {
      "cell_type": "markdown",
      "metadata": {
        "id": "jDCX0gK7pY7n"
      },
      "source": [
        "のような2行を実行すると，1行目で作られた整数データ `100` は，2行目を実行した時点でどこからも参照されなくなるので削除されます．"
      ]
    },
    {
      "cell_type": "markdown",
      "metadata": {
        "id": "dNrWu4wpzrzv"
      },
      "source": [
        "#### **浅いコピー，深いコピー**\n",
        "\n",
        "先の例で見たように，リストのコピーを`x=y`で実行してしまうと，`y`が`x`と同じものを指すようになるだけで，データのコピーは発生しませんでした．\n",
        "\n",
        "では，コピーを実施するにはどうしたら良いでしょうか．1つは，list型の関数であるcopyを使用することです．"
      ]
    },
    {
      "cell_type": "code",
      "metadata": {
        "id": "K7NYLyQJpXex",
        "colab": {
          "base_uri": "https://localhost:8080/"
        },
        "outputId": "722d42b4-38e9-40ad-f74d-85bb408a8fec"
      },
      "source": [
        "# リストのコピー\n",
        "x = [1, 2, 3, 4, 5]\n",
        "y = x.copy()\n",
        "y[0] = 0\n",
        "print(x)\n",
        "print(y)\n",
        "print(id(x))\n",
        "print(id(y))"
      ],
      "execution_count": null,
      "outputs": [
        {
          "output_type": "stream",
          "name": "stdout",
          "text": [
            "[1, 2, 3, 4, 5]\n",
            "[0, 2, 3, 4, 5]\n",
            "140116183376512\n",
            "140116183378192\n"
          ]
        }
      ]
    },
    {
      "cell_type": "markdown",
      "metadata": {
        "id": "mg2oq2qstXzF"
      },
      "source": [
        "上記のように，`copy()`を使用することで，`x,y`がそれぞれ別のデータを参照していることがわかります．"
      ]
    },
    {
      "cell_type": "markdown",
      "metadata": {
        "id": "C1xjn2XDuCpY"
      },
      "source": [
        "これを**浅いコピー**といいます．"
      ]
    },
    {
      "cell_type": "markdown",
      "metadata": {
        "id": "bxzuCZkmuJCs"
      },
      "source": [
        "リストの要素には異なる型のものが混在しても構いません．「荷札」が並んでいるだけなので，その先にどのような型のデータがあっても問題ないです．"
      ]
    },
    {
      "cell_type": "code",
      "metadata": {
        "colab": {
          "base_uri": "https://localhost:8080/"
        },
        "id": "CU50sdiptVF4",
        "outputId": "91a7864b-a66a-4e07-9b5c-2ad110083810"
      },
      "source": [
        "# リスト内にはどのような型のデータが入っていてもOK\n",
        "x = [0, 'abc', [1, 2]]\n",
        "print(x[0])\n",
        "print(x[1])\n",
        "print(x[2])\n",
        "print(x[2][0])"
      ],
      "execution_count": null,
      "outputs": [
        {
          "output_type": "stream",
          "name": "stdout",
          "text": [
            "0\n",
            "abc\n",
            "[1, 2]\n",
            "1\n"
          ]
        }
      ]
    },
    {
      "cell_type": "markdown",
      "metadata": {
        "id": "_TMYVkCzujfU"
      },
      "source": [
        "では，上記のリストを先ほどのcopyメソッドでコピーしてみましょう．"
      ]
    },
    {
      "cell_type": "code",
      "metadata": {
        "colab": {
          "base_uri": "https://localhost:8080/"
        },
        "id": "50fpgUI2ucas",
        "outputId": "0ade460e-29ac-44b4-9ff6-4a0941358095"
      },
      "source": [
        "x = [0, 'abc', [1, 2]]\n",
        "y = x.copy()\n",
        "y[0] = 1\n",
        "y[2][0] = 0\n",
        "print(x)\n",
        "print(y)"
      ],
      "execution_count": null,
      "outputs": [
        {
          "output_type": "stream",
          "name": "stdout",
          "text": [
            "[0, 'abc', [0, 2]]\n",
            "[1, 'abc', [0, 2]]\n"
          ]
        }
      ]
    },
    {
      "cell_type": "markdown",
      "metadata": {
        "id": "gqx9Iy5mvNyY"
      },
      "source": [
        "`y[2][0]`の要素を変更したら，`x[2][0]`の要素も変更されてしまいました．実は，copy()ではあくまでリストの**1段目**の荷札だけコピーし，荷札の先まではコピーしないので，**2段目**以降は省略されます．\n",
        "\n",
        "ゆえに，リスト内にさらにリストがある場合は，`copy()`ではそのリストのコピーをすることができません．これが浅いコピーと言われる所以です．\n",
        "2段目以降もコピーしたい場合は，Python標準モジュールの`deepcopy`という関数を使用します．\n"
      ]
    },
    {
      "cell_type": "code",
      "metadata": {
        "colab": {
          "base_uri": "https://localhost:8080/"
        },
        "id": "gJ3uOapAvKXc",
        "outputId": "66ccc09b-007c-4eb2-94b4-229447ae9777"
      },
      "source": [
        "# deepcopyによる深いコピー\n",
        "import copy\n",
        "x = [0, 'abc', [1, 2]]\n",
        "y = copy.deepcopy(x)\n",
        "y[0] = 1\n",
        "y[2][0] = 0\n",
        "print(x)\n",
        "print(y)"
      ],
      "execution_count": null,
      "outputs": [
        {
          "output_type": "stream",
          "name": "stdout",
          "text": [
            "[0, 'abc', [1, 2]]\n",
            "[1, 'abc', [0, 2]]\n"
          ]
        }
      ]
    },
    {
      "cell_type": "code",
      "metadata": {
        "id": "uuVX4xSwwvdJ"
      },
      "source": [
        ""
      ],
      "execution_count": null,
      "outputs": []
    }
  ]
}